{
 "cells": [
  {
   "cell_type": "code",
   "execution_count": null,
   "id": "7d31e2d1",
   "metadata": {},
   "outputs": [],
   "source": [
    "import numpy as np\n",
    "import pandas as pd\n",
    "import scipy\n",
    "\n",
    "from IPython.display import clear_output\n",
    "\n",
    "import sys\n",
    "sys.path.append('../../../../Documents/GitHub/gustav/src/')\n",
    "\n",
    "from gustav import ebi, ncbi, nlm, biogrid, nih, openalex\n",
    "from gustav import publications\n",
    "from gustav import github\n",
    "from gustav import access_framework\n",
    "from gustav import mapper\n",
    "\n",
    "import matplotlib as mpl\n",
    "import matplotlib.pyplot as plt\n",
    "import seaborn as sns\n",
    "\n",
    "sys.path.append('../general/src/')\n",
    "from manuscript import export\n",
    "from manuscript import inout\n",
    "from manuscript import datasets\n",
    "from manuscript import tools\n",
    "\n",
    "from sklearn.metrics import auc\n",
    "from scipy.stats import fisher_exact\n",
    "pd.options.display.precision = 3\n",
    "pd.options.display.expand_frame_repr = False\n",
    "pd.options.display.max_columns = 20\n",
    "\n",
    "import re\n",
    "import matplotlib.dates as mdates"
   ]
  },
  {
   "cell_type": "code",
   "execution_count": null,
   "id": "c7556876",
   "metadata": {},
   "outputs": [],
   "source": [
    "%%time\n",
    "# load all works to do proper countby\n",
    "works = openalex.works(\n",
    "            dataset = 'main', columns=['work_id', 'type', 'year'])"
   ]
  },
  {
   "cell_type": "code",
   "execution_count": null,
   "id": "761525be",
   "metadata": {},
   "outputs": [],
   "source": [
    "works = works[(works['type'] == 'journal-article') | (works['type'] == 'proceedings-article')]"
   ]
  },
  {
   "cell_type": "code",
   "execution_count": null,
   "id": "5bf75ef4",
   "metadata": {},
   "outputs": [],
   "source": [
    "%%time\n",
    "# load all works to do proper countby\n",
    "works = openalex.works(\n",
    "            dataset = 'main', \n",
    "    columns=['source_id', 'type', 'year', 'work_id'], \n",
    "    filters={'work_id':works['work_id']})"
   ]
  },
  {
   "cell_type": "code",
   "execution_count": null,
   "id": "3806bb61",
   "metadata": {},
   "outputs": [],
   "source": [
    "%%time\n",
    "# writing to parquet does not load back in\n",
    "works.to_csv('../data/openalex_articles_230328.csv', index=False)"
   ]
  },
  {
   "cell_type": "markdown",
   "id": "72aafce3",
   "metadata": {},
   "source": [
    "# Identify indexing timeline of journals"
   ]
  },
  {
   "cell_type": "code",
   "execution_count": null,
   "id": "99367b81",
   "metadata": {},
   "outputs": [],
   "source": [
    "%%time\n",
    "sources = openalex.sources(\n",
    "    dataset = 'main'\n",
    "    )  \n",
    "sources = sources.explode('issn').explode('issn_l')"
   ]
  },
  {
   "cell_type": "code",
   "execution_count": null,
   "id": "253634f4",
   "metadata": {},
   "outputs": [],
   "source": [
    "scopus_deindexed = pd.read_csv('~/OneDrive - Northwestern University/aging_paper_mills/materials/general/manually_curated/' + \\\n",
    "            'scopus_discontinued_240301.csv',\n",
    "                          encoding='latin', header=1)"
   ]
  },
  {
   "cell_type": "code",
   "execution_count": null,
   "id": "1f909f61",
   "metadata": {},
   "outputs": [],
   "source": [
    "scopus_deindexed = scopus_deindexed.rename(columns={'Print ISSN':'Print-ISSN', 'EISSN':'E-ISSN'})"
   ]
  },
  {
   "cell_type": "code",
   "execution_count": null,
   "id": "94360a79",
   "metadata": {},
   "outputs": [],
   "source": [
    "scopus_indexed = pd.read_csv('~/OneDrive - Northwestern University/aging_paper_mills/materials/general/manually_curated/' + \\\n",
    "            'indexed_by_scopus_240301.csv',\n",
    "                          encoding='latin', header=0)"
   ]
  },
  {
   "cell_type": "code",
   "execution_count": null,
   "id": "c3be496b",
   "metadata": {},
   "outputs": [],
   "source": [
    "scopus_indexed['Print-ISSN'] = scopus_indexed['Print-ISSN'].astype(str).apply(lambda x:x[0:4] + '-' + x[4:])\n",
    "scopus_indexed['E-ISSN'] = scopus_indexed['E-ISSN'].astype(str).apply(lambda x:x[0:4] + '-' + x[4:])\n",
    "scopus_deindexed['Print-ISSN'] = scopus_deindexed['Print-ISSN'].astype(str).apply(lambda x:x[0:4] + '-' + x[4:])\n",
    "scopus_deindexed['E-ISSN'] = scopus_deindexed['E-ISSN'].astype(str).apply(lambda x:x[0:4] + '-' + x[4:])"
   ]
  },
  {
   "cell_type": "code",
   "execution_count": null,
   "id": "e2b38ca0",
   "metadata": {},
   "outputs": [],
   "source": [
    "wos_deindexed = pd.read_csv('~/OneDrive - Northwestern University/aging_paper_mills/materials/LICENSED/from_clarivate_230224/' + \\\n",
    "            'WoS_Core_Journal_History_2021_unfiltered.csv',\n",
    "                          encoding='latin', header=0)"
   ]
  },
  {
   "cell_type": "code",
   "execution_count": null,
   "id": "aef7a401",
   "metadata": {},
   "outputs": [],
   "source": [
    "sources['scopus'] = (sources['issn'].isin(scopus_indexed['Print-ISSN']) | \\\n",
    "                     sources['issn'].isin(scopus_indexed['E-ISSN'])) | \\\n",
    "        (sources['issn_l'].isin(scopus_indexed['Print-ISSN']) |  \\\n",
    "                     sources['issn_l'].isin(scopus_indexed['E-ISSN']) | \\\n",
    "         sources['display_name'].str.lower().isin(scopus_indexed['Source Title'].str.lower()))"
   ]
  },
  {
   "cell_type": "code",
   "execution_count": null,
   "id": "469b5588",
   "metadata": {},
   "outputs": [],
   "source": [
    "scopus_deindexed.loc[scopus_deindexed['Year'] == 'Unable to determine']['Year'] = np.nan"
   ]
  },
  {
   "cell_type": "code",
   "execution_count": null,
   "id": "11eb8c07",
   "metadata": {},
   "outputs": [],
   "source": [
    "issn_year_scopus_dict = dict(zip(scopus_deindexed['Print-ISSN'], scopus_deindexed['Year']))\n",
    "eissn_year_scopus_dict = dict(zip(scopus_deindexed['E-ISSN'], scopus_deindexed['Year']))\n",
    "name_year_scopus_dict = dict(zip(scopus_deindexed['Source Title (newly added titles are highlighted in red)'].str.lower(),\n",
    "                                scopus_deindexed['Year']))"
   ]
  },
  {
   "cell_type": "code",
   "execution_count": null,
   "id": "ced25850",
   "metadata": {},
   "outputs": [],
   "source": [
    "sources['scopus_last_year_issn'] = sources['issn'].apply(lambda x: issn_year_scopus_dict.get(x)).fillna(-1)\n",
    "sources['scopus_last_year_eissn'] = sources['issn'].apply(lambda x: eissn_year_scopus_dict.get(x)).fillna(-1)\n",
    "sources['scopus_last_year_issn_l'] = sources['issn_l'].apply(lambda x: issn_year_scopus_dict.get(x)).fillna(-1)\n",
    "sources['scopus_last_year_eissn_l'] = sources['issn_l'].apply(lambda x: eissn_year_scopus_dict.get(x)).fillna(-1)\n",
    "sources['scopus_last_year_name'] = sources['display_name'].apply(lambda x: name_year_scopus_dict.get(x)).fillna(-1)\n",
    "sources['scopus_last_year'] = np.max(sources[['scopus_last_year_issn', 'scopus_last_year_eissn',\n",
    "                                              'scopus_last_year_issn_l', 'scopus_last_year_eissn_l',\n",
    "                                             'scopus_last_year_name']].astype(int).values, axis=1)"
   ]
  },
  {
   "cell_type": "code",
   "execution_count": null,
   "id": "d7d2bab0",
   "metadata": {},
   "outputs": [],
   "source": [
    "sources['wos'] = (sources['issn'].isin(wos_deindexed['ISSN']) | \\\n",
    "                     sources['issn'].isin(wos_deindexed['EISSN'])) | \\\n",
    "        (sources['issn_l'].isin(wos_deindexed['ISSN']) |  \\\n",
    "                     sources['issn_l'].isin(wos_deindexed['EISSN']) | \\\n",
    "         sources['display_name'].str.lower().isin(wos_deindexed['Title'].str.lower()))"
   ]
  },
  {
   "cell_type": "code",
   "execution_count": null,
   "id": "e9510970",
   "metadata": {},
   "outputs": [],
   "source": [
    "wos_deindexed = wos_deindexed[wos_deindexed['Active'] == 'No'].copy()"
   ]
  },
  {
   "cell_type": "code",
   "execution_count": null,
   "id": "569daddb",
   "metadata": {},
   "outputs": [],
   "source": [
    "for col in ['SCIE', 'SSCI', 'AHCI',\n",
    "       'ESCI']:\n",
    "    wos_deindexed[col] = wos_deindexed[col].fillna(',').astype(str).apply(lambda x: x.replace('-',',').replace('.', ','))"
   ]
  },
  {
   "cell_type": "code",
   "execution_count": null,
   "id": "59d36b5f",
   "metadata": {},
   "outputs": [],
   "source": [
    "wos_deindexed['years'] = wos_deindexed[['SCIE', 'SSCI', 'AHCI',\n",
    "       'ESCI']].fillna(',').sum(axis=1)"
   ]
  },
  {
   "cell_type": "code",
   "execution_count": null,
   "id": "76349c3c",
   "metadata": {},
   "outputs": [],
   "source": [
    "wos_deindexed['years'] = wos_deindexed['years'].astype(str).apply(lambda x: x.split(','))"
   ]
  },
  {
   "cell_type": "code",
   "execution_count": null,
   "id": "d8d78334",
   "metadata": {},
   "outputs": [],
   "source": [
    "wos_deindexed['years'] = wos_deindexed['years'].astype(str).apply(lambda x: x[0:4])"
   ]
  },
  {
   "cell_type": "code",
   "execution_count": null,
   "id": "15db4819",
   "metadata": {},
   "outputs": [],
   "source": [
    "wos_deindexed['years'] = wos_deindexed['years'].astype(int)"
   ]
  },
  {
   "cell_type": "code",
   "execution_count": null,
   "id": "367c5933",
   "metadata": {},
   "outputs": [],
   "source": [
    "wos_deindexed = wos_deindexed.sort_values('years', ascending=False).drop_duplicates(subset=['Title' , 'ISSN', 'EISSN'], keep='first')"
   ]
  },
  {
   "cell_type": "code",
   "execution_count": null,
   "id": "2c728918",
   "metadata": {},
   "outputs": [],
   "source": [
    "issn_year_wos_dict = dict(zip(wos_deindexed['ISSN'], wos_deindexed['years']))\n",
    "eissn_year_wos_dict = dict(zip(wos_deindexed['EISSN'], wos_deindexed['years']))\n",
    "name_year_wos_dict = dict(zip(wos_deindexed['Title'].str.lower(), wos_deindexed['years']))"
   ]
  },
  {
   "cell_type": "code",
   "execution_count": null,
   "id": "91ca3c8d",
   "metadata": {},
   "outputs": [],
   "source": [
    "sources['wos_last_year_issn'] = sources['issn'].apply(lambda x: issn_year_wos_dict.get(x)).fillna(-1)\n",
    "sources['wos_last_year_eissn'] = sources['issn'].apply(lambda x: eissn_year_wos_dict.get(x)).fillna(-1)\n",
    "sources['wos_last_year_issn_l'] = sources['issn_l'].apply(lambda x: issn_year_wos_dict.get(x)).fillna(-1)\n",
    "sources['wos_last_year_eissn_l'] = sources['issn_l'].apply(lambda x: eissn_year_wos_dict.get(x)).fillna(-1)\n",
    "sources['wos_last_year_name'] = sources['display_name'].str.lower().apply(lambda x: name_year_wos_dict.get(x)).fillna(-1)\n",
    "sources['wos_last_year'] = np.max(sources[['wos_last_year_issn', 'wos_last_year_eissn',\n",
    "                                          'wos_last_year_issn_l', 'wos_last_year_eissn_l',\n",
    "                                          'wos_last_year_name']].values, axis=1)"
   ]
  },
  {
   "cell_type": "code",
   "execution_count": null,
   "id": "2013fc64",
   "metadata": {},
   "outputs": [],
   "source": [
    "# It's called PubMed here but really it represents MEDLINE, a core subset of PubMed\n",
    "pubmed_df = pd.read_parquet('~/OneDrive - Northwestern University/aging_paper_mills/materials/general/manually_curated/' + \\\n",
    "                'nlm_results_parsed_230419.parquet')"
   ]
  },
  {
   "cell_type": "code",
   "execution_count": null,
   "id": "77d3d572",
   "metadata": {},
   "outputs": [],
   "source": [
    "pubmed_df = pubmed_df.explode('pubmed').explode('medline')"
   ]
  },
  {
   "cell_type": "code",
   "execution_count": null,
   "id": "424a560e",
   "metadata": {},
   "outputs": [],
   "source": [
    "new_pubmed_values = []\n",
    "for pubmed_list in pubmed_df['pubmed'].values:\n",
    "    if type(pubmed_list) == list:\n",
    "        if pubmed_list[1].endswith('-'):\n",
    "            pubmed_list[1] = 'current'\n",
    "    new_pubmed_values.append(pubmed_list)\n",
    "    \n",
    "pubmed_df['pubmed'] = new_pubmed_values"
   ]
  },
  {
   "cell_type": "code",
   "execution_count": null,
   "id": "b33ff6cb",
   "metadata": {},
   "outputs": [],
   "source": [
    "new_pubmed_values = []\n",
    "for pubmed_list in pubmed_df['medline'].values:\n",
    "    if type(pubmed_list) == list:\n",
    "        if pubmed_list[1].endswith('-'):\n",
    "            pubmed_list[1] = 'current'\n",
    "    new_pubmed_values.append(pubmed_list)\n",
    "    \n",
    "pubmed_df['medline'] = new_pubmed_values"
   ]
  },
  {
   "cell_type": "code",
   "execution_count": null,
   "id": "07723ae2",
   "metadata": {},
   "outputs": [],
   "source": [
    "pubmed_df[pubmed_df['title'] == ' Computational intelligence and neuroscience.']"
   ]
  },
  {
   "cell_type": "code",
   "execution_count": null,
   "id": "9dd56aab",
   "metadata": {},
   "outputs": [],
   "source": [
    "pubmed_df = pubmed_df.explode('pubmed').explode('medline')#.explode('medline').explode('medline')"
   ]
  },
  {
   "cell_type": "code",
   "execution_count": null,
   "id": "ec5cb42f",
   "metadata": {},
   "outputs": [],
   "source": [
    "pubmed_df['issn'] = pubmed_df['issn'].apply(lambda x: x.split(';'))\n",
    "pubmed_df = pubmed_df.explode('issn')"
   ]
  },
  {
   "cell_type": "code",
   "execution_count": null,
   "id": "bf12bec7",
   "metadata": {},
   "outputs": [],
   "source": [
    "pubmed_df['issn'] = pubmed_df['issn'].str.strip()"
   ]
  },
  {
   "cell_type": "code",
   "execution_count": null,
   "id": "1dd784ef",
   "metadata": {},
   "outputs": [],
   "source": [
    "pubmed_df['issn'] = pubmed_df['issn'].apply(lambda x: x.split('(')[0].upper())"
   ]
  },
  {
   "cell_type": "code",
   "execution_count": null,
   "id": "441269d6",
   "metadata": {},
   "outputs": [],
   "source": [
    "pubmed_df['title'] = pubmed_df['title'].str.rstrip('.').str.strip()"
   ]
  },
  {
   "cell_type": "code",
   "execution_count": null,
   "id": "0572451e",
   "metadata": {},
   "outputs": [],
   "source": [
    "pubmed_titles = pubmed_df['title']\n",
    "pubmed_issns = pubmed_df['issn']"
   ]
  },
  {
   "cell_type": "code",
   "execution_count": null,
   "id": "2c08ae25",
   "metadata": {},
   "outputs": [],
   "source": [
    "pubmed_df['pubmed'] = pubmed_df['pubmed'].str.strip('-').replace({'current':'10000'})\n",
    "pubmed_df['medline'] = pubmed_df['medline'].str.strip('-').replace({'current':'10000'})\n",
    "pubmed_df['pubmed'] = pubmed_df['pubmed'].astype(float)\n",
    "pubmed_df['medline'] = pubmed_df['medline'].astype(float)"
   ]
  },
  {
   "cell_type": "code",
   "execution_count": null,
   "id": "8768d9f7",
   "metadata": {},
   "outputs": [],
   "source": [
    "#pubmed_df = pubmed_df[~truth_series_0 & ~truth_series_1].dropna(subset=['pubmed', 'medline']).groupby('issn').max().reset_index()\n",
    "pubmed_df = pubmed_df.dropna(subset=['pubmed', 'medline']).groupby('issn').max().reset_index()"
   ]
  },
  {
   "cell_type": "code",
   "execution_count": null,
   "id": "9a205fb6",
   "metadata": {},
   "outputs": [],
   "source": [
    "pubmed_df['last_year'] = np.max(pubmed_df[['pubmed', 'medline']], axis=1)"
   ]
  },
  {
   "cell_type": "code",
   "execution_count": null,
   "id": "d810fcbe",
   "metadata": {},
   "outputs": [],
   "source": [
    "pubmed_df = pubmed_df[pubmed_df['issn'] != ''].copy()"
   ]
  },
  {
   "cell_type": "code",
   "execution_count": null,
   "id": "eb206197",
   "metadata": {},
   "outputs": [],
   "source": [
    "issn_year_pubmed_dict = dict(zip(pubmed_df['issn'], pubmed_df['last_year']))\n",
    "name_year_pubmed_dict = dict(zip(pubmed_df['title'],\n",
    "                                pubmed_df['last_year']))"
   ]
  },
  {
   "cell_type": "code",
   "execution_count": null,
   "id": "a2cae7a4",
   "metadata": {},
   "outputs": [],
   "source": [
    "sources['pubmed'] = sources['issn'].isin(pubmed_issns) | \\\n",
    "sources['issn_l'].isin(pubmed_issns) | \\\n",
    "sources['display_name'].isin(pubmed_titles)"
   ]
  },
  {
   "cell_type": "code",
   "execution_count": null,
   "id": "ad41f436",
   "metadata": {},
   "outputs": [],
   "source": [
    "sources['pubmed_last_year_issn'] = sources['issn'].apply(lambda x: issn_year_pubmed_dict.get(x)).fillna(-1)\n",
    "sources['pubmed_last_year_issn_l'] = sources['issn_l'].apply(lambda x: issn_year_pubmed_dict.get(x)).fillna(-1)\n",
    "sources['pubmed_last_year_name'] = sources['display_name'].apply(lambda x: name_year_pubmed_dict.get(x)).fillna(-1)\n",
    "sources['pubmed_last_year'] = np.max(sources[['pubmed_last_year_issn', \n",
    "                                              'pubmed_last_year_issn_l', \n",
    "                                              'pubmed_last_year_name']].values, axis=1)"
   ]
  },
  {
   "cell_type": "code",
   "execution_count": null,
   "id": "41844879",
   "metadata": {},
   "outputs": [],
   "source": [
    "sources.loc[sources['pubmed_last_year'] == 10000, 'pubmed_last_year'] = -1.0"
   ]
  },
  {
   "cell_type": "code",
   "execution_count": null,
   "id": "c2b2260d",
   "metadata": {},
   "outputs": [],
   "source": [
    "# get most recent year\n",
    "sources_index = sources[['source_id', 'display_name', 'scopus', 'scopus_last_year', \n",
    "                         'wos', 'wos_last_year', 'pubmed', 'pubmed_last_year']].groupby('source_id').max()"
   ]
  },
  {
   "cell_type": "code",
   "execution_count": null,
   "id": "17aa24d0",
   "metadata": {},
   "outputs": [],
   "source": [
    "sources_index = sources_index.reset_index().replace(-1.0, np.nan)"
   ]
  },
  {
   "cell_type": "code",
   "execution_count": null,
   "id": "81bd0e85",
   "metadata": {},
   "outputs": [],
   "source": [
    "sources_index['scopus'] = sources_index['scopus'] | ~sources_index['scopus_last_year'].isna()"
   ]
  },
  {
   "cell_type": "code",
   "execution_count": null,
   "id": "bb8738b5",
   "metadata": {},
   "outputs": [],
   "source": [
    "sources_index = sources_index.set_index('source_id')"
   ]
  },
  {
   "cell_type": "code",
   "execution_count": null,
   "id": "7466bab3",
   "metadata": {},
   "outputs": [],
   "source": [
    "issn_groupby = sources.groupby('source_id')['issn'].apply(list)\n",
    "issn_l_groupby = sources.groupby('source_id')['issn_l'].apply(list)"
   ]
  },
  {
   "cell_type": "code",
   "execution_count": null,
   "id": "5bfb8e2d",
   "metadata": {},
   "outputs": [],
   "source": [
    "sources_index['issn_openalex'] = issn_groupby\n",
    "sources_index['issn_l_openalex'] = issn_l_groupby"
   ]
  },
  {
   "cell_type": "code",
   "execution_count": null,
   "id": "c06b2be6",
   "metadata": {},
   "outputs": [],
   "source": [
    "sources_index = sources_index.reset_index()"
   ]
  },
  {
   "cell_type": "code",
   "execution_count": null,
   "id": "ab08aea6",
   "metadata": {},
   "outputs": [],
   "source": [
    "sources_index.to_csv('../data/sources_scopus_wos_indexing_240418.csv', index=False)"
   ]
  },
  {
   "cell_type": "markdown",
   "id": "f94ad007",
   "metadata": {},
   "source": [
    "# Merging work info and source info"
   ]
  },
  {
   "cell_type": "code",
   "execution_count": null,
   "id": "47596fcf",
   "metadata": {},
   "outputs": [],
   "source": [
    "%%time\n",
    "works = pd.read_csv('../data/openalex_articles_230328.csv')"
   ]
  },
  {
   "cell_type": "code",
   "execution_count": null,
   "id": "00e0fb29",
   "metadata": {},
   "outputs": [],
   "source": [
    "sources_index = pd.read_csv('../data/sources_scopus_wos_indexing_240418.csv')"
   ]
  },
  {
   "cell_type": "code",
   "execution_count": null,
   "id": "22bd71ff",
   "metadata": {},
   "outputs": [],
   "source": [
    "%%time\n",
    "works = pd.merge(works, sources_index, how='left', on='source_id')"
   ]
  },
  {
   "cell_type": "code",
   "execution_count": null,
   "id": "fbca2c2f",
   "metadata": {},
   "outputs": [],
   "source": [
    "works['after_scopus_deindex'] = works['year'] >= works['scopus_last_year']\n",
    "works['after_wos_deindex'] = works['year'] >= works['wos_last_year']\n",
    "works['after_pubmed_deindex'] = works['year'] >= works['pubmed_last_year']"
   ]
  },
  {
   "cell_type": "markdown",
   "id": "93cd6614",
   "metadata": {},
   "source": [
    "# How many ARDA-listed journals were indexed in Scopus in 2020 and later de-indexed? (13/39)\n",
    "Compare to baseline rate with two-sided Z test of proportions"
   ]
  },
  {
   "cell_type": "code",
   "execution_count": null,
   "id": "c712a990",
   "metadata": {},
   "outputs": [],
   "source": [
    "%%time\n",
    "print(len(works[(works['year'] == 2020) & (works['scopus'] == True)]['source_id'].unique()))"
   ]
  },
  {
   "cell_type": "code",
   "execution_count": null,
   "id": "14c1cbc5",
   "metadata": {},
   "outputs": [],
   "source": [
    "%%time\n",
    "print(len(works[(works['year'] == 2020) & \\\n",
    "                (works['scopus'] == True) & \\\n",
    "                (works['scopus_last_year'] >= 2020)]['source_id'].unique()))"
   ]
  },
  {
   "cell_type": "code",
   "execution_count": null,
   "id": "052a1beb",
   "metadata": {},
   "outputs": [],
   "source": [
    "import statsmodels.stats.proportion\n",
    "statsmodels.stats.proportion.proportions_ztest(count=[172,13], nobs=[28228, 39])"
   ]
  },
  {
   "cell_type": "markdown",
   "id": "a4669901",
   "metadata": {},
   "source": [
    "# Start building year_df"
   ]
  },
  {
   "cell_type": "code",
   "execution_count": null,
   "id": "49631acb",
   "metadata": {},
   "outputs": [],
   "source": [
    "%%time\n",
    "year_df = works[['work_id', 'year']].groupby('year').count()\n",
    "year_df = year_df.rename(columns={'work_id':'total_works'})"
   ]
  },
  {
   "cell_type": "code",
   "execution_count": null,
   "id": "bb9e1e5d",
   "metadata": {},
   "outputs": [],
   "source": [
    "%%time\n",
    "temp = works[['work_id', 'scopus', 'year']].groupby(['scopus', 'year']).count()"
   ]
  },
  {
   "cell_type": "code",
   "execution_count": null,
   "id": "3f36a239",
   "metadata": {},
   "outputs": [],
   "source": [
    "temp = temp.reset_index()\n",
    "temp = temp[temp['scopus'] == True].set_index('year').rename(columns={'work_id':'n_scopus'})\n",
    "year_df['n_scopus'] = temp['n_scopus']"
   ]
  },
  {
   "cell_type": "code",
   "execution_count": null,
   "id": "f7fc4071",
   "metadata": {},
   "outputs": [],
   "source": [
    "%%time\n",
    "temp = works[['work_id', 'wos', 'year']].groupby(['wos', 'year']).count()\n",
    "temp = temp.reset_index()\n",
    "temp = temp[temp['wos'] == True].set_index('year').rename(columns={'work_id':'n_wos'})\n",
    "year_df['n_wos'] = temp['n_wos']"
   ]
  },
  {
   "cell_type": "code",
   "execution_count": null,
   "id": "b6ca49f7",
   "metadata": {},
   "outputs": [],
   "source": [
    "%%time\n",
    "temp = works[['work_id', 'pubmed', 'year']].groupby(['pubmed', 'year']).count()\n",
    "temp = temp.reset_index()\n",
    "temp = temp[temp['pubmed'] == True].set_index('year').rename(columns={'work_id':'n_pubmed'})\n",
    "year_df['n_pubmed'] = temp['n_pubmed']"
   ]
  },
  {
   "cell_type": "code",
   "execution_count": null,
   "id": "a50c2e64",
   "metadata": {},
   "outputs": [],
   "source": [
    "%%time\n",
    "temp = works[['work_id', 'after_wos_deindex', 'year']].groupby(['after_wos_deindex', 'year']).count()\n",
    "temp = temp.reset_index()\n",
    "temp = temp[temp['after_wos_deindex'] == True].set_index('year').rename(columns={'work_id':'n_wos_after_deindex'})\n",
    "year_df['n_wos_after_deindex'] = temp['n_wos_after_deindex']"
   ]
  },
  {
   "cell_type": "code",
   "execution_count": null,
   "id": "f0486aa4",
   "metadata": {},
   "outputs": [],
   "source": [
    "%%time\n",
    "temp = works[['work_id', 'after_scopus_deindex', 'year']].groupby(['after_scopus_deindex', 'year']).count()\n",
    "temp = temp.reset_index()\n",
    "temp = temp[temp['after_scopus_deindex'] == True].set_index('year').rename(columns={'work_id':'n_scopus_after_deindex'})\n",
    "year_df['n_scopus_after_deindex'] = temp['n_scopus_after_deindex']"
   ]
  },
  {
   "cell_type": "code",
   "execution_count": null,
   "id": "830cc8aa",
   "metadata": {},
   "outputs": [],
   "source": [
    "%%time\n",
    "temp = works[['work_id', 'after_pubmed_deindex', 'year']].groupby(['after_pubmed_deindex', 'year']).count()\n",
    "temp = temp.reset_index()\n",
    "temp = temp[temp['after_pubmed_deindex'] == True].set_index('year').rename(columns={'work_id':'n_pubmed_after_deindex'})\n",
    "year_df['n_pubmed_after_deindex'] = temp['n_pubmed_after_deindex']"
   ]
  },
  {
   "cell_type": "code",
   "execution_count": null,
   "id": "be4a6d03",
   "metadata": {},
   "outputs": [],
   "source": [
    "works['deindexed_scopus'] = works['scopus'] & ~works['scopus_last_year'].isna()\n",
    "works['deindexed_wos'] = works['wos'] & ~works['wos_last_year'].isna()\n",
    "works['deindexed_pubmed'] = works['pubmed'] & ~works['pubmed_last_year'].isna()"
   ]
  },
  {
   "cell_type": "code",
   "execution_count": null,
   "id": "ca3676ba",
   "metadata": {},
   "outputs": [],
   "source": [
    "%%time\n",
    "temp = works[['work_id', 'deindexed_scopus', 'year']].groupby(['deindexed_scopus', 'year']).count()\n",
    "temp = temp.reset_index()\n",
    "temp = temp[temp['deindexed_scopus'] == True].set_index('year').rename(columns={'work_id':'n_scopus_deindex'})\n",
    "year_df['n_scopus_deindex'] = temp['n_scopus_deindex']"
   ]
  },
  {
   "cell_type": "code",
   "execution_count": null,
   "id": "6c63b2ae",
   "metadata": {},
   "outputs": [],
   "source": [
    "%%time\n",
    "temp = works[['work_id', 'deindexed_wos', 'year']].groupby(['deindexed_wos', 'year']).count()\n",
    "temp = temp.reset_index()\n",
    "temp = temp[temp['deindexed_wos'] == True].set_index('year').rename(columns={'work_id':'n_wos_deindex'})\n",
    "year_df['n_wos_deindex'] = temp['n_wos_deindex']"
   ]
  },
  {
   "cell_type": "code",
   "execution_count": null,
   "id": "482cf875",
   "metadata": {},
   "outputs": [],
   "source": [
    "%%time\n",
    "temp = works[['work_id', 'deindexed_pubmed', 'year']].groupby(['deindexed_pubmed', 'year']).count()\n",
    "temp = temp.reset_index()\n",
    "temp = temp[temp['deindexed_pubmed'] == True].set_index('year').rename(columns={'work_id':'n_pubmed_deindex'})\n",
    "year_df['n_pubmed_deindex'] = temp['n_pubmed_deindex']"
   ]
  },
  {
   "cell_type": "markdown",
   "id": "6cc64a54",
   "metadata": {},
   "source": [
    "Note: Counting \"actively publishing\" journals only"
   ]
  },
  {
   "cell_type": "code",
   "execution_count": null,
   "id": "e90c1c9d",
   "metadata": {},
   "outputs": [],
   "source": [
    "%%time\n",
    "temp = works[works['wos'] & ~(works['after_wos_deindex'])].groupby(['year'])['source_id'].nunique()\n",
    "temp = pd.DataFrame(temp).reset_index()\n",
    "temp = temp.set_index('year')\n",
    "temp = temp.rename(columns={'source_id':'n_wos_journals'})\n",
    "year_df['n_wos_journals'] = temp['n_wos_journals']"
   ]
  },
  {
   "cell_type": "code",
   "execution_count": null,
   "id": "38f30919",
   "metadata": {},
   "outputs": [],
   "source": [
    "%%time\n",
    "temp = works[works['scopus'] & ~(works['after_scopus_deindex'])].groupby(['year'])['source_id'].nunique()\n",
    "temp = pd.DataFrame(temp).reset_index()\n",
    "temp = temp.set_index('year')\n",
    "temp = temp.rename(columns={'source_id':'n_scopus_journals'})\n",
    "year_df['n_scopus_journals'] = temp['n_scopus_journals']"
   ]
  },
  {
   "cell_type": "code",
   "execution_count": null,
   "id": "ff4aad24",
   "metadata": {},
   "outputs": [],
   "source": [
    "%%time\n",
    "temp = works[works['pubmed'] & ~(works['after_pubmed_deindex'])].groupby(['year'])['source_id'].nunique()\n",
    "temp = pd.DataFrame(temp).reset_index()\n",
    "temp = temp.set_index('year')\n",
    "temp = temp.rename(columns={'source_id':'n_pubmed_journals'})\n",
    "year_df['n_pubmed_journals'] = temp['n_pubmed_journals']"
   ]
  },
  {
   "cell_type": "code",
   "execution_count": null,
   "id": "f0840f12",
   "metadata": {},
   "outputs": [],
   "source": [
    "%%time\n",
    "temp = works.groupby(['year'])['source_id'].nunique()\n",
    "temp = pd.DataFrame(temp).reset_index()\n",
    "temp = temp.set_index('year')\n",
    "temp = temp.rename(columns={'source_id':'n_journals'})\n",
    "year_df['n_journals'] = temp['n_journals']"
   ]
  },
  {
   "cell_type": "code",
   "execution_count": null,
   "id": "db4cffe7",
   "metadata": {},
   "outputs": [],
   "source": [
    "year_df = year_df.rename(columns={'work_id':'total_works'})"
   ]
  },
  {
   "cell_type": "code",
   "execution_count": null,
   "id": "033e21f5",
   "metadata": {},
   "outputs": [],
   "source": [
    "year_df = year_df.fillna(0.0)"
   ]
  },
  {
   "cell_type": "markdown",
   "id": "6cfa1c31",
   "metadata": {},
   "source": [
    "# Count paper mill products, PubPeer-commented articles retractions"
   ]
  },
  {
   "cell_type": "code",
   "execution_count": null,
   "id": "93837392",
   "metadata": {},
   "outputs": [],
   "source": [
    "paper_mill_df = pd.read_csv('../data/paper_mill_dois_240418.csv')"
   ]
  },
  {
   "cell_type": "code",
   "execution_count": null,
   "id": "de4d3d31",
   "metadata": {},
   "outputs": [],
   "source": [
    "# Unique dois in paper mill df (paper mill)\n",
    "paper_mill_df['doi'].value_counts()"
   ]
  },
  {
   "cell_type": "code",
   "execution_count": null,
   "id": "c83a738f",
   "metadata": {},
   "outputs": [],
   "source": [
    "# Unique dois in paper mill df (paper mill) without tortured or sem_img\n",
    "paper_mill_df[~paper_mill_df['set'].isin(['pps_tortured', 'sem_misid'])]['doi'].value_counts()"
   ]
  },
  {
   "cell_type": "code",
   "execution_count": null,
   "id": "21e5c096",
   "metadata": {},
   "outputs": [],
   "source": [
    "rw_db = pd.read_csv('../data/240304_retraction_watch_db.csv', encoding='latin')\n",
    "a = rw_db[(rw_db['RetractionNature'] == 'Retraction')]['OriginalPaperDOI'].values\n",
    "a = np.unique([str(x).lower() for x in a])\n",
    "a = a[(a != 'unavailable') & (a != 'nan')]\n",
    "a = ['https://doi.org/' + x for x in a]\n",
    "retracted_doi = a"
   ]
  },
  {
   "cell_type": "code",
   "execution_count": null,
   "id": "c3123013",
   "metadata": {},
   "outputs": [],
   "source": [
    "pubpeer_df = pd.read_csv('C:/Users/richa/OneDrive - Northwestern University/pubpeer_comments_20240201.csv')\n",
    "pubpeer_df['id'] = pubpeer_df['ids'].astype(str).apply(lambda x: x.split(','))\n",
    "pubpeer_df = pubpeer_df.explode('id')\n",
    "pubpeer_df['paper_link'] = pubpeer_df['Pubpeer Link'].astype(str).apply(lambda x: '/'.join(x.split('/')[:-1])).values\n",
    "b = pubpeer_df['id'].values\n",
    "b = [x.lower() for x in b]\n",
    "b = ['https://doi.org/' + x for x in b]\n",
    "pubpeer_doi = b"
   ]
  },
  {
   "cell_type": "code",
   "execution_count": null,
   "id": "8e9b0a29",
   "metadata": {},
   "outputs": [],
   "source": [
    "year_df = year_df.set_index('year')"
   ]
  },
  {
   "cell_type": "markdown",
   "id": "b44682ba",
   "metadata": {},
   "source": [
    "### Retractions"
   ]
  },
  {
   "cell_type": "code",
   "execution_count": null,
   "id": "a2e62593",
   "metadata": {},
   "outputs": [],
   "source": [
    "%%time\n",
    "works = openalex.works(\n",
    "            dataset = 'main', \n",
    "            filters={'doi': retracted_doi})"
   ]
  },
  {
   "cell_type": "code",
   "execution_count": null,
   "id": "c182cb29",
   "metadata": {},
   "outputs": [],
   "source": [
    "works['doi_no_link'] = works['doi'].apply(lambda x: x.split('https://doi.org/')[1]).values"
   ]
  },
  {
   "cell_type": "code",
   "execution_count": null,
   "id": "0a7dc162",
   "metadata": {},
   "outputs": [],
   "source": [
    "works = pd.merge(works, sources_index, how='left', on='source_id')"
   ]
  },
  {
   "cell_type": "code",
   "execution_count": null,
   "id": "e96a9f7d",
   "metadata": {},
   "outputs": [],
   "source": [
    "works['after_scopus_deindex'] = works['year'] >= works['scopus_last_year']\n",
    "works['after_wos_deindex'] = works['year'] >= works['wos_last_year']\n",
    "works['after_pubmed_deindex'] = works['year'] >= works['pubmed_last_year']"
   ]
  },
  {
   "cell_type": "code",
   "execution_count": null,
   "id": "93fab7bf",
   "metadata": {},
   "outputs": [],
   "source": [
    "works_slice = works.copy()"
   ]
  },
  {
   "cell_type": "code",
   "execution_count": null,
   "id": "bc966ad2",
   "metadata": {},
   "outputs": [],
   "source": [
    "temp = works_slice.groupby('year').nunique()\n",
    "temp = temp.rename(columns={'work_id':'n_retracted'})\n",
    "year_df['n_retracted'] = temp['n_retracted']"
   ]
  },
  {
   "cell_type": "code",
   "execution_count": null,
   "id": "7756d5f1",
   "metadata": {},
   "outputs": [],
   "source": [
    "temp = works_slice.groupby('year').nunique()\n",
    "temp = temp.rename(columns={'source_id':'n_retracted_journals'})\n",
    "year_df['n_retracted_journals'] = temp['n_retracted_journals']"
   ]
  },
  {
   "cell_type": "code",
   "execution_count": null,
   "id": "34bedbe9",
   "metadata": {},
   "outputs": [],
   "source": [
    "temp = works_slice[works_slice['scopus'] & ~works_slice['after_scopus_deindex']].groupby('year').nunique()\n",
    "temp = temp.rename(columns={'work_id':'n_scopus_retracted', \n",
    "                            'source_id':'n_scopus_retracted_journals'})\n",
    "year_df['n_scopus_retracted'] = temp['n_scopus_retracted']\n",
    "year_df['n_scopus_retracted_journals'] = temp['n_scopus_retracted_journals']"
   ]
  },
  {
   "cell_type": "code",
   "execution_count": null,
   "id": "98a2bc08",
   "metadata": {},
   "outputs": [],
   "source": [
    "temp = works_slice[works_slice['wos'] & ~works_slice['after_wos_deindex']].groupby('year').nunique()\n",
    "temp = temp.rename(columns={'work_id':'n_wos_retracted', \n",
    "                            'source_id':'n_wos_retracted_journals'})\n",
    "year_df['n_wos_retracted'] = temp['n_wos_retracted']\n",
    "year_df['n_wos_retracted_journals'] = temp['n_wos_retracted_journals']"
   ]
  },
  {
   "cell_type": "code",
   "execution_count": null,
   "id": "a6f616b8",
   "metadata": {},
   "outputs": [],
   "source": [
    "temp = works_slice[works_slice['pubmed'] & ~works_slice['after_pubmed_deindex']].groupby('year').nunique()\n",
    "temp = temp.rename(columns={'work_id':'n_pubmed_retracted', \n",
    "                            'source_id':'n_pubmed_retracted_journals'})\n",
    "year_df['n_pubmed_retracted'] = temp['n_pubmed_retracted']\n",
    "year_df['n_pubmed_retracted_journals'] = temp['n_pubmed_retracted_journals']"
   ]
  },
  {
   "cell_type": "markdown",
   "id": "e242371a",
   "metadata": {},
   "source": [
    "### Paper mill products"
   ]
  },
  {
   "cell_type": "code",
   "execution_count": null,
   "id": "7779e868",
   "metadata": {},
   "outputs": [],
   "source": [
    "paper_mill_dois = ['https://doi.org/' + x for x in paper_mill_df['doi'].astype(str).str.lower().values]"
   ]
  },
  {
   "cell_type": "code",
   "execution_count": null,
   "id": "a5dc9f5e",
   "metadata": {},
   "outputs": [],
   "source": [
    "%%time\n",
    "works = openalex.works(\n",
    "            dataset = 'main', \n",
    "            filters={'doi': paper_mill_dois})"
   ]
  },
  {
   "cell_type": "code",
   "execution_count": null,
   "id": "256e75ac",
   "metadata": {},
   "outputs": [],
   "source": [
    "works['doi_no_link'] = works['doi'].apply(lambda x: x.split('https://doi.org/')[1]).values"
   ]
  },
  {
   "cell_type": "code",
   "execution_count": null,
   "id": "397460c9",
   "metadata": {},
   "outputs": [],
   "source": [
    "works = pd.merge(works, sources_index, how='left', on='source_id')"
   ]
  },
  {
   "cell_type": "code",
   "execution_count": null,
   "id": "651f722d",
   "metadata": {},
   "outputs": [],
   "source": [
    "works['after_scopus_deindex'] = works['year'] >= works['scopus_last_year']\n",
    "works['after_wos_deindex'] = works['year'] >= works['wos_last_year']\n",
    "works['after_pubmed_deindex'] = works['year'] >= works['pubmed_last_year']"
   ]
  },
  {
   "cell_type": "code",
   "execution_count": null,
   "id": "f98da2b3",
   "metadata": {},
   "outputs": [],
   "source": [
    "works_slice = works.copy()"
   ]
  },
  {
   "cell_type": "code",
   "execution_count": null,
   "id": "a9d86d99",
   "metadata": {},
   "outputs": [],
   "source": [
    "temp = works_slice.groupby('year').count()\n",
    "temp = temp.rename(columns={'work_id':'n_paper_mill'})\n",
    "year_df['n_paper_mill'] = temp['n_paper_mill']"
   ]
  },
  {
   "cell_type": "code",
   "execution_count": null,
   "id": "55698a55",
   "metadata": {},
   "outputs": [],
   "source": [
    "temp = works_slice.groupby('year').nunique()\n",
    "temp = temp.rename(columns={'source_id':'n_paper_mill_journals'})\n",
    "year_df['n_paper_mill_journals'] = temp['n_paper_mill_journals']"
   ]
  },
  {
   "cell_type": "code",
   "execution_count": null,
   "id": "7cd662b1",
   "metadata": {},
   "outputs": [],
   "source": [
    "works_slice = works.drop_duplicates('work_id')\n",
    "works_slice = works_slice[works_slice['doi'].isin(retracted_doi)]\n",
    "temp = works_slice.groupby('year').nunique()\n",
    "temp = temp.rename(columns={'work_id':'n_paper_mill_retracted'})\n",
    "year_df['n_paper_mill_retracted'] = temp['n_paper_mill_retracted']"
   ]
  },
  {
   "cell_type": "code",
   "execution_count": null,
   "id": "2c5869dd",
   "metadata": {},
   "outputs": [],
   "source": [
    "works_slice = works.drop_duplicates('work_id')\n",
    "works_slice = works_slice[works_slice['wos'] & ~works_slice['after_wos_deindex']]\n",
    "\n",
    "temp = works_slice.groupby('year').nunique()\n",
    "temp = temp.rename(columns={'source_id':'n_wos_paper_mill_journals', \n",
    "                            'work_id':'n_paper_mill_wos'})\n",
    "year_df['n_wos_paper_mill_journals'] = temp['n_wos_paper_mill_journals']\n",
    "year_df['n_paper_mill_wos'] = temp['n_paper_mill_wos']"
   ]
  },
  {
   "cell_type": "code",
   "execution_count": null,
   "id": "4d8f4b6c",
   "metadata": {},
   "outputs": [],
   "source": [
    "works_slice = works.drop_duplicates('work_id')\n",
    "works_slice = works_slice[works_slice['scopus'] & ~works_slice['after_scopus_deindex']]\n",
    "\n",
    "temp = works_slice.groupby('year').nunique()\n",
    "temp = temp.rename(columns={'source_id':'n_scopus_paper_mill_journals', \n",
    "                            'work_id':'n_paper_mill_scopus'})\n",
    "year_df['n_scopus_paper_mill_journals'] = temp['n_scopus_paper_mill_journals']\n",
    "year_df['n_paper_mill_scopus'] = temp['n_paper_mill_scopus']"
   ]
  },
  {
   "cell_type": "code",
   "execution_count": null,
   "id": "9a5df8ea",
   "metadata": {},
   "outputs": [],
   "source": [
    "works_slice = works.drop_duplicates('work_id')\n",
    "works_slice = works_slice[works_slice['pubmed'] & ~works_slice['after_pubmed_deindex']]\n",
    "\n",
    "temp = works_slice.groupby('year').nunique()\n",
    "temp = temp.rename(columns={'source_id':'n_pubmed_paper_mill_journals', \n",
    "                            'work_id':'n_paper_mill_pubmed'})\n",
    "year_df['n_pubmed_paper_mill_journals'] = temp['n_pubmed_paper_mill_journals']\n",
    "year_df['n_paper_mill_pubmed'] = temp['n_paper_mill_pubmed']"
   ]
  },
  {
   "cell_type": "markdown",
   "id": "b21d2d07",
   "metadata": {},
   "source": [
    "### PubPeer-commented"
   ]
  },
  {
   "cell_type": "code",
   "execution_count": null,
   "id": "5ad2d159",
   "metadata": {},
   "outputs": [],
   "source": [
    "%%time\n",
    "works = openalex.works(\n",
    "            dataset = 'main', \n",
    "            filters={'doi': pubpeer_doi})"
   ]
  },
  {
   "cell_type": "code",
   "execution_count": null,
   "id": "25dc058e",
   "metadata": {},
   "outputs": [],
   "source": [
    "works['doi_no_link'] = works['doi'].apply(lambda x: x.split('https://doi.org/')[1]).values"
   ]
  },
  {
   "cell_type": "code",
   "execution_count": null,
   "id": "413bb67b",
   "metadata": {},
   "outputs": [],
   "source": [
    "works = pd.merge(works, sources_index, how='left', on='source_id')"
   ]
  },
  {
   "cell_type": "code",
   "execution_count": null,
   "id": "9f336fa8",
   "metadata": {},
   "outputs": [],
   "source": [
    "works['after_scopus_deindex'] = works['year'] >= works['scopus_last_year']\n",
    "works['after_wos_deindex'] = works['year'] >= works['wos_last_year']\n",
    "works['after_pubmed_deindex'] = works['year'] >= works['pubmed_last_year']"
   ]
  },
  {
   "cell_type": "code",
   "execution_count": null,
   "id": "c07e3d2c",
   "metadata": {},
   "outputs": [],
   "source": [
    "works_slice = works.copy()"
   ]
  },
  {
   "cell_type": "code",
   "execution_count": null,
   "id": "cd6ce145",
   "metadata": {},
   "outputs": [],
   "source": [
    "temp = works_slice.groupby('year').count()\n",
    "temp = temp.rename(columns={'work_id':'n_paper_mill'})\n",
    "year_df['n_pubpeer'] = temp['n_paper_mill']"
   ]
  },
  {
   "cell_type": "code",
   "execution_count": null,
   "id": "1ea8d77a",
   "metadata": {},
   "outputs": [],
   "source": [
    "temp = works_slice.groupby('year').nunique()\n",
    "temp = temp.rename(columns={'source_id':'n_paper_mill_journals'})\n",
    "year_df['n_pubpeer_journals'] = temp['n_paper_mill_journals']"
   ]
  },
  {
   "cell_type": "code",
   "execution_count": null,
   "id": "2dad0e4d",
   "metadata": {},
   "outputs": [],
   "source": [
    "works_slice = works.drop_duplicates('work_id')\n",
    "works_slice = works_slice[works_slice['doi'].isin(retracted_doi)]\n",
    "temp = works_slice.groupby('year').nunique()\n",
    "temp = temp.rename(columns={'work_id':'n_paper_mill_retracted'})\n",
    "year_df['n_pubpeer_retracted'] = temp['n_paper_mill_retracted']"
   ]
  },
  {
   "cell_type": "code",
   "execution_count": null,
   "id": "1c47861a",
   "metadata": {},
   "outputs": [],
   "source": [
    "works_slice = works.drop_duplicates('work_id')\n",
    "works_slice = works_slice[works_slice['wos'] & ~works_slice['after_wos_deindex']]\n",
    "\n",
    "temp = works_slice.groupby('year').nunique()\n",
    "temp = temp.rename(columns={'source_id':'n_wos_paper_mill_journals', \n",
    "                            'work_id':'n_paper_mill_wos'})\n",
    "year_df['n_wos_pubpeer_journals'] = temp['n_wos_paper_mill_journals']\n",
    "year_df['n_pubpeer_wos'] = temp['n_paper_mill_wos']"
   ]
  },
  {
   "cell_type": "code",
   "execution_count": null,
   "id": "371f8729",
   "metadata": {},
   "outputs": [],
   "source": [
    "works_slice = works.drop_duplicates('work_id')\n",
    "works_slice = works_slice[works_slice['scopus'] & ~works_slice['after_scopus_deindex']]\n",
    "\n",
    "temp = works_slice.groupby('year').nunique()\n",
    "temp = temp.rename(columns={'source_id':'n_scopus_paper_mill_journals', \n",
    "                            'work_id':'n_paper_mill_scopus'})\n",
    "year_df['n_scopus_pubpeer_journals'] = temp['n_scopus_paper_mill_journals']\n",
    "year_df['n_pubpeer_scopus'] = temp['n_paper_mill_scopus']"
   ]
  },
  {
   "cell_type": "code",
   "execution_count": null,
   "id": "eb92f0cc",
   "metadata": {},
   "outputs": [],
   "source": [
    "works_slice = works.drop_duplicates('work_id')\n",
    "works_slice = works_slice[works_slice['pubmed'] & ~works_slice['after_pubmed_deindex']]\n",
    "\n",
    "temp = works_slice.groupby('year').nunique()\n",
    "temp = temp.rename(columns={'source_id':'n_pubmed_paper_mill_journals', \n",
    "                            'work_id':'n_paper_mill_pubmed'})\n",
    "year_df['n_pubmed_pubpeer_journals'] = temp['n_pubmed_paper_mill_journals']\n",
    "year_df['n_pubpeer_pubmed'] = temp['n_paper_mill_pubmed']"
   ]
  },
  {
   "cell_type": "code",
   "execution_count": null,
   "id": "276eee76",
   "metadata": {},
   "outputs": [],
   "source": [
    "year_df = year_df.fillna(0.0)"
   ]
  },
  {
   "cell_type": "markdown",
   "id": "dfdf0c39",
   "metadata": {},
   "source": [
    "### Collect retractions as represented in databases\n",
    "(using their respective web portals, collected manually in 240419_database_retractions_by_year.csv)"
   ]
  },
  {
   "cell_type": "code",
   "execution_count": null,
   "id": "1e305515",
   "metadata": {},
   "outputs": [],
   "source": [
    "# For querying PubMed (Additional filters > MEDLINE)\n",
    "\n",
    "import string\n",
    "alphabet = string.ascii_lowercase\n",
    "\n",
    "# for getting all records from pubmed\n",
    "query_str = '''\"'''\n",
    "for a in alphabet:\n",
    "    query_str = query_str + a + '''\" OR \"'''\n",
    "for n in range(10):\n",
    "    query_str = query_str + str(n) + '''\" OR \"'''\n",
    "    \n",
    "print(query_str)"
   ]
  },
  {
   "cell_type": "code",
   "execution_count": null,
   "id": "3b8039ef",
   "metadata": {},
   "outputs": [],
   "source": [
    "# retractions as represented in database\n",
    "database_retractions_df = pd.read_csv('../data/240419_database_retractions_by_year.csv')"
   ]
  },
  {
   "cell_type": "code",
   "execution_count": null,
   "id": "e4cdf73b",
   "metadata": {},
   "outputs": [],
   "source": [
    "year_df = pd.merge(year_df.reset_index(), database_retractions_df, on='year', how='left').fillna(0.0)"
   ]
  },
  {
   "cell_type": "code",
   "execution_count": null,
   "id": "29f9196a",
   "metadata": {},
   "outputs": [],
   "source": [
    "year_df.to_csv('../data/openalex_summary_by_year_240419.csv', index=False)"
   ]
  }
 ],
 "metadata": {
  "kernelspec": {
   "display_name": "Python 3 (ipykernel)",
   "language": "python",
   "name": "python3"
  },
  "language_info": {
   "codemirror_mode": {
    "name": "ipython",
    "version": 3
   },
   "file_extension": ".py",
   "mimetype": "text/x-python",
   "name": "python",
   "nbconvert_exporter": "python",
   "pygments_lexer": "ipython3",
   "version": "3.9.12"
  }
 },
 "nbformat": 4,
 "nbformat_minor": 5
}
