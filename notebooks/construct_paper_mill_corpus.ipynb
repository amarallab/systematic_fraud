{
 "cells": [
  {
   "cell_type": "code",
   "execution_count": 6,
   "id": "c7a31543",
   "metadata": {},
   "outputs": [],
   "source": [
    "import numpy as np\n",
    "import pandas as pd\n",
    "import scipy\n",
    "\n",
    "from IPython.display import clear_output\n",
    "\n",
    "import sys\n",
    "sys.path.append('../../../../Documents/GitHub/gustav/src/')\n",
    "\n",
    "from gustav import ebi, ncbi, nlm, biogrid, nih, openalex\n",
    "from gustav import publications\n",
    "from gustav import github\n",
    "from gustav import access_framework\n",
    "from gustav import mapper\n",
    "\n",
    "import matplotlib as mpl\n",
    "import matplotlib.pyplot as plt\n",
    "import seaborn as sns\n",
    "\n",
    "sys.path.append('../general/src/')\n",
    "from manuscript import export\n",
    "from manuscript import inout\n",
    "from manuscript import datasets\n",
    "from manuscript import tools\n",
    "\n",
    "from sklearn.metrics import auc\n",
    "from scipy.stats import fisher_exact\n",
    "pd.options.display.precision = 3\n",
    "pd.options.display.expand_frame_repr = False\n",
    "pd.options.display.max_columns = 20"
   ]
  },
  {
   "cell_type": "code",
   "execution_count": 2,
   "id": "1ee97219",
   "metadata": {},
   "outputs": [
    {
     "name": "stdout",
     "output_type": "stream",
     "text": [
      "CPU times: total: 3.25 s\n",
      "Wall time: 3.91 s\n"
     ]
    }
   ],
   "source": [
    "%%time\n",
    "ml = ncbi.pubmed('main', columns=['pubmed_id', 'doi'])"
   ]
  },
  {
   "cell_type": "code",
   "execution_count": 3,
   "id": "397a8d25",
   "metadata": {},
   "outputs": [],
   "source": [
    "collect = []"
   ]
  },
  {
   "cell_type": "markdown",
   "id": "7b384c29",
   "metadata": {},
   "source": [
    "# Collect suspected paper mill products"
   ]
  },
  {
   "cell_type": "markdown",
   "id": "b1a53040",
   "metadata": {},
   "source": [
    "### Retraction Watch"
   ]
  },
  {
   "cell_type": "code",
   "execution_count": 4,
   "id": "77bc1556",
   "metadata": {},
   "outputs": [],
   "source": [
    "rw_db = pd.read_csv('../data/240304_retraction_watch_db.csv', encoding='latin')\n",
    "a = rw_db[(rw_db['RetractionNature'] == 'Retraction') & rw_db['Reason'].str.contains('Paper Mill')]['OriginalPaperDOI'].values\n",
    "a = np.unique([str(x).lower() for x in a])\n",
    "a = a[a != 'unavailable']"
   ]
  },
  {
   "cell_type": "code",
   "execution_count": 6,
   "id": "19f414c4",
   "metadata": {},
   "outputs": [
    {
     "data": {
      "text/plain": [
       "47387"
      ]
     },
     "execution_count": 6,
     "metadata": {},
     "output_type": "execute_result"
    }
   ],
   "source": [
    "rw_db[(rw_db['RetractionNature'] == 'Retraction')]['Record ID'].nunique()"
   ]
  },
  {
   "cell_type": "code",
   "execution_count": 5,
   "id": "a9a07f54",
   "metadata": {},
   "outputs": [],
   "source": [
    "ml_slice = pd.DataFrame({'doi':a, 'set':'rw_paper_mill'})"
   ]
  },
  {
   "cell_type": "code",
   "execution_count": 6,
   "id": "5b0f81dd",
   "metadata": {},
   "outputs": [],
   "source": [
    "collect.append(ml_slice)"
   ]
  },
  {
   "cell_type": "markdown",
   "id": "4558f3e2",
   "metadata": {},
   "source": [
    "All patients (as of April 18, 2024)\n",
    "(https://docs.google.com/spreadsheets/d/17nicN279qe2pZ6xiSV11yXfyKPK2FHkwmzcYoktxom4/edit#gid=0)"
   ]
  },
  {
   "cell_type": "code",
   "execution_count": 7,
   "id": "6c5bade1",
   "metadata": {},
   "outputs": [],
   "source": [
    "paper_mill_df = pd.read_csv('../data/All patients - Sheet1.csv')"
   ]
  },
  {
   "cell_type": "code",
   "execution_count": 8,
   "id": "edbfa2d7",
   "metadata": {},
   "outputs": [],
   "source": [
    "ml_slice = pd.DataFrame({'doi':paper_mill_df['DOI / link'].dropna(), 'set':'all_patients'})"
   ]
  },
  {
   "cell_type": "code",
   "execution_count": 9,
   "id": "e7990f18",
   "metadata": {},
   "outputs": [],
   "source": [
    "collect.append(ml_slice)"
   ]
  },
  {
   "cell_type": "markdown",
   "id": "75b7147b",
   "metadata": {},
   "source": [
    "BUON paper mill (as of April 18, 2024) (https://docs.google.com/spreadsheets/d/1y2VEQeZzJcrt6bI4PVlEJsYPH54uIAG6M4N9dCOrHuU/edit#gid=0)"
   ]
  },
  {
   "cell_type": "code",
   "execution_count": 10,
   "id": "58f91f83",
   "metadata": {},
   "outputs": [],
   "source": [
    "paper_mill_df = pd.read_csv('../data/Public BUON - Sorted by DOI.csv')"
   ]
  },
  {
   "cell_type": "code",
   "execution_count": 11,
   "id": "a69cdcb4",
   "metadata": {},
   "outputs": [],
   "source": [
    "ml_slice = pd.DataFrame({'doi':paper_mill_df['DOI'].dropna(), 'set':'buon'})"
   ]
  },
  {
   "cell_type": "code",
   "execution_count": 12,
   "id": "9102ce07",
   "metadata": {},
   "outputs": [],
   "source": [
    "collect.append(ml_slice)"
   ]
  },
  {
   "cell_type": "markdown",
   "id": "54086354",
   "metadata": {},
   "source": [
    "Cell cycle paper mill (https://docs.google.com/spreadsheets/d/1ZeEVAPP-Vj9p2fTzjRi3v9FbaqwfnDKzXwiZ7foU2w0/edit#gid=0)"
   ]
  },
  {
   "cell_type": "code",
   "execution_count": 13,
   "id": "6856570a",
   "metadata": {},
   "outputs": [],
   "source": [
    "paper_mill_df = pd.read_csv('../data/Cell cycle - Sheet1.csv')"
   ]
  },
  {
   "cell_type": "code",
   "execution_count": 14,
   "id": "b66ccd97",
   "metadata": {},
   "outputs": [],
   "source": [
    "ml_slice = pd.DataFrame({'doi':paper_mill_df['DOI'].dropna(), 'set':'cell_cycle'})"
   ]
  },
  {
   "cell_type": "code",
   "execution_count": 15,
   "id": "6df94c92",
   "metadata": {},
   "outputs": [],
   "source": [
    "collect.append(ml_slice)"
   ]
  },
  {
   "cell_type": "markdown",
   "id": "4e814ffd",
   "metadata": {},
   "source": [
    "Citations - Ceramint (https://docs.google.com/spreadsheets/d/1bfgWotMOQALFbeqccIkOMLbJODfrBwK-JHQ78zEu2ZQ/edit#gid=1637821734)"
   ]
  },
  {
   "cell_type": "code",
   "execution_count": 16,
   "id": "79b3571d",
   "metadata": {},
   "outputs": [],
   "source": [
    "paper_mill_df = pd.read_csv('../data/citations - CeramInt etc..csv')"
   ]
  },
  {
   "cell_type": "code",
   "execution_count": 17,
   "id": "2641d431",
   "metadata": {},
   "outputs": [],
   "source": [
    "ml_slice = pd.DataFrame({'doi':paper_mill_df['DOI / link'].dropna(), 'set':'citations_ceramint'})"
   ]
  },
  {
   "cell_type": "code",
   "execution_count": 18,
   "id": "5052799a",
   "metadata": {},
   "outputs": [],
   "source": [
    "collect.append(ml_slice)"
   ]
  },
  {
   "cell_type": "markdown",
   "id": "757b1357",
   "metadata": {},
   "source": [
    "Citations - Crystallography (https://docs.google.com/spreadsheets/d/1bfgWotMOQALFbeqccIkOMLbJODfrBwK-JHQ78zEu2ZQ/edit#gid=1637821734)"
   ]
  },
  {
   "cell_type": "code",
   "execution_count": 19,
   "id": "d9a78699",
   "metadata": {},
   "outputs": [],
   "source": [
    "paper_mill_df = pd.read_csv('../data/citations - Crystallography.csv')"
   ]
  },
  {
   "cell_type": "code",
   "execution_count": 20,
   "id": "026d73cb",
   "metadata": {},
   "outputs": [],
   "source": [
    "ml_slice = pd.DataFrame({'doi':paper_mill_df['DOI / link'].dropna(), 'set':'citations_crystallography'})"
   ]
  },
  {
   "cell_type": "code",
   "execution_count": 21,
   "id": "754642cd",
   "metadata": {},
   "outputs": [],
   "source": [
    "collect.append(ml_slice)"
   ]
  },
  {
   "cell_type": "markdown",
   "id": "c054efa3",
   "metadata": {},
   "source": [
    "Continuation (https://docs.google.com/spreadsheets/d/10eTF8qVGUXzQNAbhqHgKU9dVxUPMXDsyRpx9BBvXKHc/edit#gid=0)"
   ]
  },
  {
   "cell_type": "code",
   "execution_count": 22,
   "id": "575e4604",
   "metadata": {},
   "outputs": [],
   "source": [
    "paper_mill_df = pd.read_csv('../data/Continuation papermill - Sheet1.csv')"
   ]
  },
  {
   "cell_type": "code",
   "execution_count": 23,
   "id": "43f05e37",
   "metadata": {},
   "outputs": [],
   "source": [
    "ml_slice = pd.DataFrame({'doi':paper_mill_df['DOI / link'].dropna(), 'set':'continuation'})"
   ]
  },
  {
   "cell_type": "code",
   "execution_count": 24,
   "id": "105c58a6",
   "metadata": {},
   "outputs": [],
   "source": [
    "collect.append(ml_slice)"
   ]
  },
  {
   "cell_type": "markdown",
   "id": "f282bb63",
   "metadata": {},
   "source": [
    "Mitochondria (https://docs.google.com/spreadsheets/d/14SWQEGBsyHibroTsONtA0avsyrZLLYXa5ZHjfUXvYkU/edit#gid=0)"
   ]
  },
  {
   "cell_type": "code",
   "execution_count": 25,
   "id": "222bd388",
   "metadata": {},
   "outputs": [],
   "source": [
    "paper_mill_df = pd.read_csv('../data/Mitochondria - Sheet1.csv')"
   ]
  },
  {
   "cell_type": "code",
   "execution_count": 26,
   "id": "39d24f17",
   "metadata": {},
   "outputs": [],
   "source": [
    "ml_slice = pd.DataFrame({'doi':paper_mill_df['DOI / link'].dropna(), 'set':'mitochondria'})"
   ]
  },
  {
   "cell_type": "code",
   "execution_count": 27,
   "id": "9a3c6590",
   "metadata": {},
   "outputs": [],
   "source": [
    "collect.append(ml_slice)"
   ]
  },
  {
   "cell_type": "markdown",
   "id": "357d3589",
   "metadata": {},
   "source": [
    "Citations - Electrochemistry (https://docs.google.com/spreadsheets/d/1bfgWotMOQALFbeqccIkOMLbJODfrBwK-JHQ78zEu2ZQ/edit#gid=1136645481)"
   ]
  },
  {
   "cell_type": "code",
   "execution_count": 28,
   "id": "196de846",
   "metadata": {},
   "outputs": [],
   "source": [
    "paper_mill_df = pd.read_csv('../data/citations - Electrochem Sci.csv')"
   ]
  },
  {
   "cell_type": "code",
   "execution_count": 29,
   "id": "cf74c776",
   "metadata": {},
   "outputs": [],
   "source": [
    "ml_slice = pd.DataFrame({'doi':paper_mill_df['DOI / link'].dropna(), 'set':'citations_electrochemistry'})"
   ]
  },
  {
   "cell_type": "code",
   "execution_count": 30,
   "id": "ce1c2e1b",
   "metadata": {},
   "outputs": [],
   "source": [
    "collect.append(ml_slice)"
   ]
  },
  {
   "cell_type": "markdown",
   "id": "4d73214e",
   "metadata": {},
   "source": [
    "Citations - Monolayers (https://docs.google.com/spreadsheets/d/1bfgWotMOQALFbeqccIkOMLbJODfrBwK-JHQ78zEu2ZQ/edit#gid=1136645481)"
   ]
  },
  {
   "cell_type": "code",
   "execution_count": 31,
   "id": "aa8793c3",
   "metadata": {},
   "outputs": [],
   "source": [
    "paper_mill_df = pd.read_csv('../data/citations - Monolayers.csv')"
   ]
  },
  {
   "cell_type": "code",
   "execution_count": 32,
   "id": "1b92978f",
   "metadata": {},
   "outputs": [],
   "source": [
    "ml_slice = pd.DataFrame({'doi':paper_mill_df['DOI / link'].dropna(), 'set':'citations_monolayers'})"
   ]
  },
  {
   "cell_type": "code",
   "execution_count": 33,
   "id": "808e9744",
   "metadata": {},
   "outputs": [],
   "source": [
    "collect.append(ml_slice)"
   ]
  },
  {
   "cell_type": "markdown",
   "id": "68d200ce",
   "metadata": {},
   "source": [
    "Citations - Misc (https://docs.google.com/spreadsheets/d/1bfgWotMOQALFbeqccIkOMLbJODfrBwK-JHQ78zEu2ZQ/edit#gid=1136645481)"
   ]
  },
  {
   "cell_type": "code",
   "execution_count": 34,
   "id": "6e82382d",
   "metadata": {},
   "outputs": [],
   "source": [
    "paper_mill_df = pd.read_csv('../data/citations - Misc..csv')"
   ]
  },
  {
   "cell_type": "code",
   "execution_count": 35,
   "id": "e0b76091",
   "metadata": {},
   "outputs": [],
   "source": [
    "ml_slice = pd.DataFrame({'doi':paper_mill_df['DOI / link'].dropna(), 'set':'citations_misc'})"
   ]
  },
  {
   "cell_type": "code",
   "execution_count": 36,
   "id": "10b87d72",
   "metadata": {},
   "outputs": [],
   "source": [
    "collect.append(ml_slice)"
   ]
  },
  {
   "cell_type": "markdown",
   "id": "1c580995",
   "metadata": {},
   "source": [
    "Citations - Petroleum (https://docs.google.com/spreadsheets/d/1bfgWotMOQALFbeqccIkOMLbJODfrBwK-JHQ78zEu2ZQ/edit#gid=1136645481)"
   ]
  },
  {
   "cell_type": "code",
   "execution_count": 37,
   "id": "c593d3e0",
   "metadata": {},
   "outputs": [],
   "source": [
    "paper_mill_df = pd.read_csv('../data/citations - Petroleum.csv')"
   ]
  },
  {
   "cell_type": "code",
   "execution_count": 38,
   "id": "d468dc67",
   "metadata": {},
   "outputs": [],
   "source": [
    "ml_slice = pd.DataFrame({'doi':paper_mill_df['DOI / link'].dropna(), 'set':'citations_petroleum'})"
   ]
  },
  {
   "cell_type": "code",
   "execution_count": 39,
   "id": "1414bc1f",
   "metadata": {},
   "outputs": [],
   "source": [
    "collect.append(ml_slice)"
   ]
  },
  {
   "cell_type": "markdown",
   "id": "0ffcfe8b",
   "metadata": {},
   "source": [
    "Citations - TCM (https://docs.google.com/spreadsheets/d/1bfgWotMOQALFbeqccIkOMLbJODfrBwK-JHQ78zEu2ZQ/edit#gid=1136645481)"
   ]
  },
  {
   "cell_type": "code",
   "execution_count": 40,
   "id": "17053a6a",
   "metadata": {},
   "outputs": [],
   "source": [
    "paper_mill_df = pd.read_csv('../data/citations - TCM.csv')"
   ]
  },
  {
   "cell_type": "code",
   "execution_count": 41,
   "id": "70b376ab",
   "metadata": {},
   "outputs": [],
   "source": [
    "ml_slice = pd.DataFrame({'doi':paper_mill_df['DOI / link'].dropna(), 'set':'citations_tcm'})"
   ]
  },
  {
   "cell_type": "code",
   "execution_count": 42,
   "id": "43452086",
   "metadata": {},
   "outputs": [],
   "source": [
    "collect.append(ml_slice)"
   ]
  },
  {
   "cell_type": "markdown",
   "id": "26bdcc24",
   "metadata": {},
   "source": [
    "Citations - Zhao/Zhang (https://docs.google.com/spreadsheets/d/1bfgWotMOQALFbeqccIkOMLbJODfrBwK-JHQ78zEu2ZQ/edit#gid=1136645481)"
   ]
  },
  {
   "cell_type": "code",
   "execution_count": 43,
   "id": "79bae0f0",
   "metadata": {},
   "outputs": [],
   "source": [
    "paper_mill_df = pd.read_csv('../data/citations - Zheng & Zhao.csv')"
   ]
  },
  {
   "cell_type": "code",
   "execution_count": 44,
   "id": "90ca9a44",
   "metadata": {
    "scrolled": true
   },
   "outputs": [],
   "source": [
    "ml_slice = pd.DataFrame({'doi':paper_mill_df['DOI / link'].dropna(), 'set':'citations_zhao_zhang'})"
   ]
  },
  {
   "cell_type": "code",
   "execution_count": 45,
   "id": "fd7cfbc7",
   "metadata": {},
   "outputs": [],
   "source": [
    "collect.append(ml_slice)"
   ]
  },
  {
   "cell_type": "markdown",
   "id": "789d3c37",
   "metadata": {},
   "source": [
    "Citation milled (https://docs.google.com/spreadsheets/d/108hb_hOoxMvJ3sAbTS3LZRThvzY9azEI4NIcmb-yafY/edit#gid=0)"
   ]
  },
  {
   "cell_type": "code",
   "execution_count": 46,
   "id": "9dc084e4",
   "metadata": {},
   "outputs": [],
   "source": [
    "paper_mill_df = pd.read_csv('../data/Citation-milled - Zhende.csv')"
   ]
  },
  {
   "cell_type": "code",
   "execution_count": 47,
   "id": "719e2943",
   "metadata": {
    "scrolled": true
   },
   "outputs": [],
   "source": [
    "ml_slice = pd.DataFrame({'doi':paper_mill_df['DOI / link'].dropna(), 'set':'citations_zhende'})"
   ]
  },
  {
   "cell_type": "code",
   "execution_count": 48,
   "id": "57a42bbb",
   "metadata": {},
   "outputs": [],
   "source": [
    "collect.append(ml_slice)"
   ]
  },
  {
   "cell_type": "markdown",
   "id": "27782041",
   "metadata": {},
   "source": [
    "Contractor (https://docs.google.com/spreadsheets/d/1r0MyIYpagBc58BRF9c3luWNlCX8VUvUuPyYYXzxWvgY/edit#gid=262337249)"
   ]
  },
  {
   "cell_type": "code",
   "execution_count": 49,
   "id": "0fdeb6a2",
   "metadata": {},
   "outputs": [],
   "source": [
    "paper_mill_df = pd.read_csv('../data/Contractor - Update.csv')"
   ]
  },
  {
   "cell_type": "code",
   "execution_count": 50,
   "id": "50c8e4ba",
   "metadata": {
    "scrolled": true
   },
   "outputs": [],
   "source": [
    "ml_slice = pd.DataFrame({'doi':paper_mill_df['DOI'].dropna(), 'set':'contractor'})"
   ]
  },
  {
   "cell_type": "code",
   "execution_count": 51,
   "id": "ae9fb855",
   "metadata": {},
   "outputs": [],
   "source": [
    "collect.append(ml_slice)"
   ]
  },
  {
   "cell_type": "markdown",
   "id": "e7071e50",
   "metadata": {},
   "source": [
    "Crochet (https://docs.google.com/spreadsheets/d/1NKBplrpW1txuL9PjhYb3bbvtQbk-TcsnqyqI8Uj-5Q8/edit#gid=0)"
   ]
  },
  {
   "cell_type": "code",
   "execution_count": 52,
   "id": "acbf08a4",
   "metadata": {},
   "outputs": [],
   "source": [
    "paper_mill_df = pd.read_csv('../data/Crochet - Sheet1.csv')"
   ]
  },
  {
   "cell_type": "code",
   "execution_count": 53,
   "id": "6a1acafe",
   "metadata": {
    "scrolled": true
   },
   "outputs": [],
   "source": [
    "ml_slice = pd.DataFrame({'doi':paper_mill_df['DOI'].dropna(), 'set':'crochet'})"
   ]
  },
  {
   "cell_type": "code",
   "execution_count": 54,
   "id": "c9dff378",
   "metadata": {},
   "outputs": [],
   "source": [
    "collect.append(ml_slice)"
   ]
  },
  {
   "cell_type": "markdown",
   "id": "1018bcd0",
   "metadata": {},
   "source": [
    "Direct targeting (https://docs.google.com/spreadsheets/d/1X401JM6CcpTSkbKsPsOl20pRKQ-ns1S_J5pTwtBjqPw/edit#gid=0)"
   ]
  },
  {
   "cell_type": "code",
   "execution_count": 55,
   "id": "8a60238e",
   "metadata": {},
   "outputs": [],
   "source": [
    "paper_mill_df = pd.read_csv('../data/Direct_target - Sheet1.csv')"
   ]
  },
  {
   "cell_type": "code",
   "execution_count": 56,
   "id": "6dfe02da",
   "metadata": {
    "scrolled": true
   },
   "outputs": [],
   "source": [
    "ml_slice = pd.DataFrame({'doi':paper_mill_df['DOI'].dropna(), 'set':'direct_targeting'})"
   ]
  },
  {
   "cell_type": "code",
   "execution_count": 57,
   "id": "db180624",
   "metadata": {},
   "outputs": [],
   "source": [
    "collect.append(ml_slice)"
   ]
  },
  {
   "cell_type": "markdown",
   "id": "8b076089",
   "metadata": {},
   "source": [
    "ERMPS (https://docs.google.com/spreadsheets/d/1mwgbHLF8VKk-0Qwqdq7n4DkgtM5OvsaA75ijuxYy4Qs/edit#gid=0)"
   ]
  },
  {
   "cell_type": "code",
   "execution_count": 58,
   "id": "2cb3931f",
   "metadata": {},
   "outputs": [],
   "source": [
    "paper_mill_df = pd.read_csv('../data/ERMPS Productions - Sheet1.csv')"
   ]
  },
  {
   "cell_type": "code",
   "execution_count": 59,
   "id": "c43b92e7",
   "metadata": {
    "scrolled": true
   },
   "outputs": [],
   "source": [
    "ml_slice = pd.DataFrame({'doi':paper_mill_df['ID'].dropna(), 'set':'ermps'})"
   ]
  },
  {
   "cell_type": "code",
   "execution_count": 60,
   "id": "92334cb5",
   "metadata": {},
   "outputs": [],
   "source": [
    "collect.append(ml_slice)"
   ]
  },
  {
   "cell_type": "markdown",
   "id": "46b8e67e",
   "metadata": {},
   "source": [
    "eyebrows ncRNA (https://docs.google.com/spreadsheets/d/149EjFXVxpwkBXYJOnOHb6RhAqT4a2llhj9LM60MBffM/edit#gid=0)"
   ]
  },
  {
   "cell_type": "code",
   "execution_count": 61,
   "id": "1a441ccf",
   "metadata": {},
   "outputs": [],
   "source": [
    "paper_mill_df = pd.read_csv('../data/eyebrows - Sheet1.csv')"
   ]
  },
  {
   "cell_type": "code",
   "execution_count": 62,
   "id": "d644e137",
   "metadata": {
    "scrolled": true
   },
   "outputs": [],
   "source": [
    "ml_slice = pd.DataFrame({'doi':paper_mill_df['DOI'].dropna(), 'set':'eyebrows'})"
   ]
  },
  {
   "cell_type": "code",
   "execution_count": 63,
   "id": "8e440cd7",
   "metadata": {},
   "outputs": [],
   "source": [
    "collect.append(ml_slice)"
   ]
  },
  {
   "cell_type": "markdown",
   "id": "8ceeb90e",
   "metadata": {},
   "source": [
    "Sponges (https://docs.google.com/spreadsheets/d/1eGPpdHkzwFXTlJYaE5I4gE29tzvAfun1Q9fJjmP_ZKo/edit#gid=0)"
   ]
  },
  {
   "cell_type": "code",
   "execution_count": 64,
   "id": "b2209688",
   "metadata": {},
   "outputs": [],
   "source": [
    "paper_mill_df = pd.read_csv('../data/Sponges - Sheet1.csv')"
   ]
  },
  {
   "cell_type": "code",
   "execution_count": 65,
   "id": "b4c8a226",
   "metadata": {
    "scrolled": true
   },
   "outputs": [],
   "source": [
    "ml_slice = pd.DataFrame({'doi':paper_mill_df['DOI / link'].dropna(), 'set':'sponges'})"
   ]
  },
  {
   "cell_type": "code",
   "execution_count": 66,
   "id": "dc2f0683",
   "metadata": {},
   "outputs": [],
   "source": [
    "collect.append(ml_slice)"
   ]
  },
  {
   "cell_type": "markdown",
   "id": "1ef964b1",
   "metadata": {},
   "source": [
    "fragments (https://docs.google.com/spreadsheets/d/1mHP04Z8nviy79X-ziMkdW4vhz-Sw_qGSZrHcDbrJNL8/edit#gid=0)"
   ]
  },
  {
   "cell_type": "code",
   "execution_count": 67,
   "id": "62b16beb",
   "metadata": {},
   "outputs": [],
   "source": [
    "paper_mill_df = pd.read_csv('../data/fragments - Sheet1.csv')"
   ]
  },
  {
   "cell_type": "code",
   "execution_count": 68,
   "id": "87b0f9f0",
   "metadata": {
    "scrolled": true
   },
   "outputs": [],
   "source": [
    "ml_slice = pd.DataFrame({'doi':paper_mill_df['DOI / link'].dropna(), 'set':'fragments'})"
   ]
  },
  {
   "cell_type": "code",
   "execution_count": 69,
   "id": "388209ff",
   "metadata": {},
   "outputs": [],
   "source": [
    "collect.append(ml_slice)"
   ]
  },
  {
   "cell_type": "markdown",
   "id": "08b10942",
   "metadata": {},
   "source": [
    "GMR (https://docs.google.com/spreadsheets/d/1SXbiwTcuEh4dyxzd99mSBcEf7DREgM8-e4ATDP51ISQ/edit#gid=0)"
   ]
  },
  {
   "cell_type": "code",
   "execution_count": 70,
   "id": "ad8f4585",
   "metadata": {},
   "outputs": [],
   "source": [
    "paper_mill_df = pd.read_csv('../data/GMR - Sheet1.csv')"
   ]
  },
  {
   "cell_type": "code",
   "execution_count": 71,
   "id": "e4d4c7a4",
   "metadata": {
    "scrolled": true
   },
   "outputs": [],
   "source": [
    "ml_slice = pd.DataFrame({'doi':paper_mill_df['DOI'].dropna(), 'set':'gmr'})"
   ]
  },
  {
   "cell_type": "code",
   "execution_count": 72,
   "id": "40950f16",
   "metadata": {},
   "outputs": [],
   "source": [
    "collect.append(ml_slice)"
   ]
  },
  {
   "cell_type": "markdown",
   "id": "cde14302",
   "metadata": {},
   "source": [
    "Hindawi (https://docs.google.com/spreadsheets/d/1YL5rMrZoUcp3rn1mP7B_X9QE08VPGXehhK-dlkFN_Iw/edit#gid=1601660879)"
   ]
  },
  {
   "cell_type": "code",
   "execution_count": 73,
   "id": "ffc96919",
   "metadata": {},
   "outputs": [],
   "source": [
    "paper_mill_df = pd.read_csv('../data/Hindawi - Sheet1.csv')"
   ]
  },
  {
   "cell_type": "code",
   "execution_count": 74,
   "id": "d1004cc1",
   "metadata": {
    "scrolled": true
   },
   "outputs": [],
   "source": [
    "ml_slice = pd.DataFrame({'doi':paper_mill_df['DOI & link'].dropna(), 'set':'hindawi'})"
   ]
  },
  {
   "cell_type": "code",
   "execution_count": 75,
   "id": "9d1be37e",
   "metadata": {},
   "outputs": [],
   "source": [
    "collect.append(ml_slice)"
   ]
  },
  {
   "cell_type": "markdown",
   "id": "3ff91c76",
   "metadata": {},
   "source": [
    "Not Hindawi (https://docs.google.com/spreadsheets/d/1YL5rMrZoUcp3rn1mP7B_X9QE08VPGXehhK-dlkFN_Iw/edit#gid=1601660879)"
   ]
  },
  {
   "cell_type": "code",
   "execution_count": 76,
   "id": "c44ca4df",
   "metadata": {},
   "outputs": [],
   "source": [
    "paper_mill_df = pd.read_csv('../data/Hindawi - Not Hindawi.csv')"
   ]
  },
  {
   "cell_type": "code",
   "execution_count": 77,
   "id": "84a786d6",
   "metadata": {
    "scrolled": true
   },
   "outputs": [],
   "source": [
    "ml_slice = pd.DataFrame({'doi':paper_mill_df['DOI & link'].dropna(), 'set':'not_hindawi'})"
   ]
  },
  {
   "cell_type": "code",
   "execution_count": 78,
   "id": "b670dc1c",
   "metadata": {},
   "outputs": [],
   "source": [
    "collect.append(ml_slice)"
   ]
  },
  {
   "cell_type": "markdown",
   "id": "9b3989f7",
   "metadata": {},
   "source": [
    "Jilin University (https://docs.google.com/spreadsheets/d/1-6xhXnvVjKASgfCITEF15IsI54PczGt4Yp6rKOXaHhI/edit#gid=0)"
   ]
  },
  {
   "cell_type": "code",
   "execution_count": 79,
   "id": "2ec38334",
   "metadata": {},
   "outputs": [],
   "source": [
    "paper_mill_df = pd.read_csv('../data/Jilin University - Sheet1.csv')"
   ]
  },
  {
   "cell_type": "code",
   "execution_count": 80,
   "id": "cb04dded",
   "metadata": {
    "scrolled": true
   },
   "outputs": [],
   "source": [
    "ml_slice = pd.DataFrame({'doi':paper_mill_df['DOI'].dropna(), 'set':'jilin_university'})"
   ]
  },
  {
   "cell_type": "code",
   "execution_count": 81,
   "id": "33d7af69",
   "metadata": {},
   "outputs": [],
   "source": [
    "collect.append(ml_slice)"
   ]
  },
  {
   "cell_type": "markdown",
   "id": "a78b9ca3",
   "metadata": {},
   "source": [
    "Maths (https://docs.google.com/spreadsheets/d/1AXAhCEu4-U1Tciq7jPv5qvtxzJCBwvQEB9ggD_PW_Bg/edit#gid=0)"
   ]
  },
  {
   "cell_type": "code",
   "execution_count": 82,
   "id": "a6f5c1a4",
   "metadata": {},
   "outputs": [],
   "source": [
    "paper_mill_df = pd.read_csv('../data/Maths - Sheet1.csv')"
   ]
  },
  {
   "cell_type": "code",
   "execution_count": 83,
   "id": "bd26d60a",
   "metadata": {
    "scrolled": true
   },
   "outputs": [],
   "source": [
    "ml_slice = pd.DataFrame({'doi':paper_mill_df['DOI'].dropna(), 'set':'maths'})"
   ]
  },
  {
   "cell_type": "code",
   "execution_count": 84,
   "id": "ca9b8331",
   "metadata": {},
   "outputs": [
    {
     "data": {
      "text/html": [
       "<div>\n",
       "<style scoped>\n",
       "    .dataframe tbody tr th:only-of-type {\n",
       "        vertical-align: middle;\n",
       "    }\n",
       "\n",
       "    .dataframe tbody tr th {\n",
       "        vertical-align: top;\n",
       "    }\n",
       "\n",
       "    .dataframe thead th {\n",
       "        text-align: right;\n",
       "    }\n",
       "</style>\n",
       "<table border=\"1\" class=\"dataframe\">\n",
       "  <thead>\n",
       "    <tr style=\"text-align: right;\">\n",
       "      <th></th>\n",
       "      <th>doi</th>\n",
       "      <th>set</th>\n",
       "    </tr>\n",
       "  </thead>\n",
       "  <tbody>\n",
       "    <tr>\n",
       "      <th>0</th>\n",
       "      <td>10.1007/s12044-014-0167-6</td>\n",
       "      <td>maths</td>\n",
       "    </tr>\n",
       "    <tr>\n",
       "      <th>1</th>\n",
       "      <td>10.1186/1029-242X-2013-572</td>\n",
       "      <td>maths</td>\n",
       "    </tr>\n",
       "    <tr>\n",
       "      <th>2</th>\n",
       "      <td>10.1186/1687-2770-2013-262</td>\n",
       "      <td>maths</td>\n",
       "    </tr>\n",
       "    <tr>\n",
       "      <th>3</th>\n",
       "      <td>10.1155/2014/620387</td>\n",
       "      <td>maths</td>\n",
       "    </tr>\n",
       "    <tr>\n",
       "      <th>4</th>\n",
       "      <td>10.2298/FIL1612291H</td>\n",
       "      <td>maths</td>\n",
       "    </tr>\n",
       "    <tr>\n",
       "      <th>...</th>\n",
       "      <td>...</td>\n",
       "      <td>...</td>\n",
       "    </tr>\n",
       "    <tr>\n",
       "      <th>60</th>\n",
       "      <td>10.1186/s13661-019-01311-5</td>\n",
       "      <td>maths</td>\n",
       "    </tr>\n",
       "    <tr>\n",
       "      <th>61</th>\n",
       "      <td>10.1186/s13661-020-01328-1</td>\n",
       "      <td>maths</td>\n",
       "    </tr>\n",
       "    <tr>\n",
       "      <th>62</th>\n",
       "      <td>10.1186/s13661-020-01370-z</td>\n",
       "      <td>maths</td>\n",
       "    </tr>\n",
       "    <tr>\n",
       "      <th>63</th>\n",
       "      <td>10.1016/j.na.2020.111828</td>\n",
       "      <td>maths</td>\n",
       "    </tr>\n",
       "    <tr>\n",
       "      <th>64</th>\n",
       "      <td>10.1186/s13661-020-01385-6</td>\n",
       "      <td>maths</td>\n",
       "    </tr>\n",
       "  </tbody>\n",
       "</table>\n",
       "<p>65 rows × 2 columns</p>\n",
       "</div>"
      ],
      "text/plain": [
       "                           doi    set\n",
       "0    10.1007/s12044-014-0167-6  maths\n",
       "1   10.1186/1029-242X-2013-572  maths\n",
       "2   10.1186/1687-2770-2013-262  maths\n",
       "3          10.1155/2014/620387  maths\n",
       "4          10.2298/FIL1612291H  maths\n",
       "..                         ...    ...\n",
       "60  10.1186/s13661-019-01311-5  maths\n",
       "61  10.1186/s13661-020-01328-1  maths\n",
       "62  10.1186/s13661-020-01370-z  maths\n",
       "63    10.1016/j.na.2020.111828  maths\n",
       "64  10.1186/s13661-020-01385-6  maths\n",
       "\n",
       "[65 rows x 2 columns]"
      ]
     },
     "execution_count": 84,
     "metadata": {},
     "output_type": "execute_result"
    }
   ],
   "source": [
    "ml_slice"
   ]
  },
  {
   "cell_type": "code",
   "execution_count": 85,
   "id": "25137a8b",
   "metadata": {},
   "outputs": [],
   "source": [
    "collect.append(ml_slice)"
   ]
  },
  {
   "cell_type": "markdown",
   "id": "7e410fdc",
   "metadata": {},
   "source": [
    "Meta-analyses (https://docs.google.com/spreadsheets/d/1_7AJf3IttCUEwQcWsfPFeSqxkRUUHqZY-00j7bnCoKc/edit#gid=0)"
   ]
  },
  {
   "cell_type": "code",
   "execution_count": 86,
   "id": "6ed42bd9",
   "metadata": {},
   "outputs": [],
   "source": [
    "paper_mill_df = pd.read_csv('../data/Meta-analyses - Sheet1.csv')"
   ]
  },
  {
   "cell_type": "code",
   "execution_count": 87,
   "id": "d74a7273",
   "metadata": {
    "scrolled": true
   },
   "outputs": [],
   "source": [
    "ml_slice = pd.DataFrame({'doi':paper_mill_df['DOI + Link'].dropna(), 'set':'meta_analyses'})"
   ]
  },
  {
   "cell_type": "code",
   "execution_count": 88,
   "id": "603cf3e9",
   "metadata": {},
   "outputs": [],
   "source": [
    "collect.append(ml_slice)"
   ]
  },
  {
   "cell_type": "markdown",
   "id": "6b994fb2",
   "metadata": {},
   "source": [
    "Microprocessors (https://docs.google.com/spreadsheets/d/1kQITnlGualetTH7wjQ_oVUZUwLtrUTEbvHModGBd-Ek/edit#gid=0)"
   ]
  },
  {
   "cell_type": "code",
   "execution_count": 89,
   "id": "81967761",
   "metadata": {},
   "outputs": [],
   "source": [
    "paper_mill_df = pd.read_csv('../data/Microprocessors - Sheet1.csv')"
   ]
  },
  {
   "cell_type": "code",
   "execution_count": 90,
   "id": "0730c122",
   "metadata": {
    "scrolled": true
   },
   "outputs": [],
   "source": [
    "ml_slice = pd.DataFrame({'doi':paper_mill_df['DOI + Link'].dropna(), 'set':'meta_analyses'})"
   ]
  },
  {
   "cell_type": "code",
   "execution_count": 91,
   "id": "1d7e3cdb",
   "metadata": {},
   "outputs": [],
   "source": [
    "collect.append(ml_slice)"
   ]
  },
  {
   "cell_type": "markdown",
   "id": "921f876a",
   "metadata": {},
   "source": [
    "ncRNA combs (https://docs.google.com/spreadsheets/d/1_762PbYYTCJhek5PdBuiDuN1q48UDgMa-rT6gi_jA8c/edit#gid=0)"
   ]
  },
  {
   "cell_type": "code",
   "execution_count": 92,
   "id": "34408071",
   "metadata": {},
   "outputs": [],
   "source": [
    "paper_mill_df = pd.read_csv('../data/ncRNA Combs - Sheet1.csv')"
   ]
  },
  {
   "cell_type": "code",
   "execution_count": 93,
   "id": "2578817a",
   "metadata": {
    "scrolled": true
   },
   "outputs": [],
   "source": [
    "ml_slice = pd.DataFrame({'doi':paper_mill_df['DOI'].dropna(), 'set':'ncrna_combs'})"
   ]
  },
  {
   "cell_type": "code",
   "execution_count": 94,
   "id": "44ecb05a",
   "metadata": {},
   "outputs": [],
   "source": [
    "collect.append(ml_slice)"
   ]
  },
  {
   "cell_type": "markdown",
   "id": "2d24c222",
   "metadata": {},
   "source": [
    "necessary facilities (https://docs.google.com/spreadsheets/d/1pJ4BeYapd5GdJzEqcJRT_laOVuG7B1vVrK7mv0bOEos/edit#gid=0)"
   ]
  },
  {
   "cell_type": "code",
   "execution_count": 95,
   "id": "0d73f54a",
   "metadata": {},
   "outputs": [],
   "source": [
    "paper_mill_df = pd.read_csv('../data/Jammy Smears - Sheet1.csv')"
   ]
  },
  {
   "cell_type": "code",
   "execution_count": 96,
   "id": "566c6e7f",
   "metadata": {
    "scrolled": true
   },
   "outputs": [],
   "source": [
    "ml_slice = pd.DataFrame({'doi':paper_mill_df['DOI'].dropna(), 'set':'necessary_facilities'})"
   ]
  },
  {
   "cell_type": "code",
   "execution_count": 97,
   "id": "8280ac58",
   "metadata": {},
   "outputs": [],
   "source": [
    "collect.append(ml_slice)"
   ]
  },
  {
   "cell_type": "markdown",
   "id": "7399d3d0",
   "metadata": {},
   "source": [
    "Paint it Black (https://docs.google.com/spreadsheets/d/1qBqQMXgzxoBd5bTbqdMuapGheupE5bdIopypju417NM/edit#gid=0)"
   ]
  },
  {
   "cell_type": "code",
   "execution_count": 98,
   "id": "b45abd14",
   "metadata": {},
   "outputs": [],
   "source": [
    "paper_mill_df = pd.read_csv('../data/Papermill Productions #2 - Sheet1.csv')"
   ]
  },
  {
   "cell_type": "code",
   "execution_count": 99,
   "id": "941019db",
   "metadata": {
    "scrolled": true
   },
   "outputs": [],
   "source": [
    "ml_slice = pd.DataFrame({'doi':paper_mill_df['DOI'].dropna(), 'set':'paint_it_black'})"
   ]
  },
  {
   "cell_type": "code",
   "execution_count": 100,
   "id": "0afd66f5",
   "metadata": {},
   "outputs": [],
   "source": [
    "collect.append(ml_slice)"
   ]
  },
  {
   "cell_type": "markdown",
   "id": "29e30d4c",
   "metadata": {},
   "source": [
    "Backup (https://docs.google.com/spreadsheets/d/1r6lb6k-kEqh-6PPnBUsCKrfCUZV5DzXIhEDcCnAtKiE/edit#gid=0)"
   ]
  },
  {
   "cell_type": "code",
   "execution_count": 101,
   "id": "84b563a4",
   "metadata": {},
   "outputs": [],
   "source": [
    "paper_mill_df = pd.read_csv('../data/papermill#2 - Sheet1.csv')"
   ]
  },
  {
   "cell_type": "code",
   "execution_count": 102,
   "id": "d2a236b6",
   "metadata": {
    "scrolled": true
   },
   "outputs": [],
   "source": [
    "ml_slice = pd.DataFrame({'doi':paper_mill_df['DOI'].dropna(), 'set':'backup'})"
   ]
  },
  {
   "cell_type": "code",
   "execution_count": 103,
   "id": "79be2394",
   "metadata": {},
   "outputs": [],
   "source": [
    "collect.append(ml_slice)"
   ]
  },
  {
   "cell_type": "markdown",
   "id": "790184b9",
   "metadata": {},
   "source": [
    "Herbal (https://docs.google.com/spreadsheets/d/13K6zoo2oSATsFlY7YGyvm2_Xs1jibs0RH4nKQP5y8DY/edit#gid=0)"
   ]
  },
  {
   "cell_type": "code",
   "execution_count": 104,
   "id": "9ee788a5",
   "metadata": {},
   "outputs": [],
   "source": [
    "paper_mill_df = pd.read_csv('../data/Papermill #3 Herbal - Sheet1.csv')"
   ]
  },
  {
   "cell_type": "code",
   "execution_count": 105,
   "id": "4f510d08",
   "metadata": {
    "scrolled": true
   },
   "outputs": [],
   "source": [
    "ml_slice = pd.DataFrame({'doi':paper_mill_df['DOI'].dropna(), 'set':'herbal'})"
   ]
  },
  {
   "cell_type": "code",
   "execution_count": 106,
   "id": "2234553a",
   "metadata": {},
   "outputs": [],
   "source": [
    "collect.append(ml_slice)"
   ]
  },
  {
   "cell_type": "markdown",
   "id": "6dda239e",
   "metadata": {},
   "source": [
    "Shanghai (https://docs.google.com/spreadsheets/d/1PLrzeUMketFHFfpUEbVnveqX6HYcb9_TJ7ikh8mP_rY/edit#gid=0)"
   ]
  },
  {
   "cell_type": "code",
   "execution_count": 107,
   "id": "893c54ed",
   "metadata": {},
   "outputs": [],
   "source": [
    "paper_mill_df = pd.read_csv('../data/Shanghai - Sheet1.csv')"
   ]
  },
  {
   "cell_type": "code",
   "execution_count": 108,
   "id": "ff7b90be",
   "metadata": {
    "scrolled": true
   },
   "outputs": [],
   "source": [
    "ml_slice = pd.DataFrame({'doi':paper_mill_df['DOI / link'].dropna(), 'set':'shanghai'})"
   ]
  },
  {
   "cell_type": "code",
   "execution_count": 109,
   "id": "c6db3952",
   "metadata": {},
   "outputs": [],
   "source": [
    "collect.append(ml_slice)"
   ]
  },
  {
   "cell_type": "markdown",
   "id": "479df063",
   "metadata": {},
   "source": [
    "Shaanxi (https://docs.google.com/spreadsheets/d/1LwqEh0fYaIqIv4d7knJwacPjKinAXthO0oHNLUHkGLo/edit#gid=0)"
   ]
  },
  {
   "cell_type": "code",
   "execution_count": 110,
   "id": "2899d099",
   "metadata": {},
   "outputs": [],
   "source": [
    "paper_mill_df = pd.read_csv('../data/Shaanxi - Sheet1.csv')"
   ]
  },
  {
   "cell_type": "code",
   "execution_count": 111,
   "id": "6df7c7a0",
   "metadata": {
    "scrolled": true
   },
   "outputs": [],
   "source": [
    "ml_slice = pd.DataFrame({'doi':paper_mill_df['DOI'].dropna(), 'set':'shaanxi'})"
   ]
  },
  {
   "cell_type": "code",
   "execution_count": 112,
   "id": "8b58f256",
   "metadata": {},
   "outputs": [],
   "source": [
    "collect.append(ml_slice)"
   ]
  },
  {
   "cell_type": "markdown",
   "id": "fe8aefa1",
   "metadata": {},
   "source": [
    "smol (https://docs.google.com/spreadsheets/d/1t-wboYsrinciQ_WuDfMRAwR1oAPyJfQBxGunLdaKjyk/edit#gid=1634717128)"
   ]
  },
  {
   "cell_type": "code",
   "execution_count": 113,
   "id": "054bc5d7",
   "metadata": {},
   "outputs": [],
   "source": [
    "paper_mill_df = pd.read_csv('../data/Smol papermill - Sheet2.csv')"
   ]
  },
  {
   "cell_type": "code",
   "execution_count": 114,
   "id": "b1968184",
   "metadata": {
    "scrolled": true
   },
   "outputs": [],
   "source": [
    "ml_slice = pd.DataFrame({'doi':paper_mill_df['DOI'].dropna(), 'set':'smol'})"
   ]
  },
  {
   "cell_type": "code",
   "execution_count": 115,
   "id": "88e6365d",
   "metadata": {},
   "outputs": [],
   "source": [
    "collect.append(ml_slice)"
   ]
  },
  {
   "cell_type": "markdown",
   "id": "da3627e8",
   "metadata": {},
   "source": [
    "Spandidos_CSU (https://docs.google.com/spreadsheets/d/1I7uuhZ7NgMtzXFaJVfBPzP92JjCHO8tJDOjL8Y_9q1U/edit#gid=0)"
   ]
  },
  {
   "cell_type": "code",
   "execution_count": 116,
   "id": "af119ab2",
   "metadata": {},
   "outputs": [],
   "source": [
    "paper_mill_df = pd.read_csv('../data/Spandidos_CSU - Sheet1.csv')"
   ]
  },
  {
   "cell_type": "code",
   "execution_count": 117,
   "id": "8b6d9e96",
   "metadata": {
    "scrolled": true
   },
   "outputs": [],
   "source": [
    "ml_slice = pd.DataFrame({'doi':paper_mill_df['DOI'].dropna(), 'set':'spandidos_csu_1'})"
   ]
  },
  {
   "cell_type": "code",
   "execution_count": 118,
   "id": "38e0aed9",
   "metadata": {},
   "outputs": [],
   "source": [
    "collect.append(ml_slice)"
   ]
  },
  {
   "cell_type": "markdown",
   "id": "b21ecb0b",
   "metadata": {},
   "source": [
    "Spandidos_CSU pt2 (https://docs.google.com/spreadsheets/d/1I7uuhZ7NgMtzXFaJVfBPzP92JjCHO8tJDOjL8Y_9q1U/edit#gid=0)"
   ]
  },
  {
   "cell_type": "code",
   "execution_count": 119,
   "id": "454ff0b7",
   "metadata": {},
   "outputs": [],
   "source": [
    "paper_mill_df = pd.read_csv('../data/Spandidos_CSU - Sheet2.csv')"
   ]
  },
  {
   "cell_type": "code",
   "execution_count": 120,
   "id": "46a50bfc",
   "metadata": {
    "scrolled": true
   },
   "outputs": [],
   "source": [
    "ml_slice = pd.DataFrame({'doi':paper_mill_df['DOI'].dropna(), 'set':'spandidos_csu_2'})"
   ]
  },
  {
   "cell_type": "code",
   "execution_count": 121,
   "id": "59bdd191",
   "metadata": {},
   "outputs": [],
   "source": [
    "collect.append(ml_slice)"
   ]
  },
  {
   "cell_type": "markdown",
   "id": "873ccfae",
   "metadata": {},
   "source": [
    "Transwell (https://docs.google.com/spreadsheets/d/1LPmWbu5KsX3tXRPH87d_7j0qMUeHweeQbjhJ8sGiqrY/edit#gid=0)"
   ]
  },
  {
   "cell_type": "code",
   "execution_count": 122,
   "id": "a5cc215e",
   "metadata": {},
   "outputs": [],
   "source": [
    "paper_mill_df = pd.read_csv('../data/Transwell - Sheet1.csv')"
   ]
  },
  {
   "cell_type": "code",
   "execution_count": 123,
   "id": "2510e2c0",
   "metadata": {
    "scrolled": true
   },
   "outputs": [],
   "source": [
    "ml_slice = pd.DataFrame({'doi':paper_mill_df['DOI'].dropna(), 'set':'transwell'})"
   ]
  },
  {
   "cell_type": "code",
   "execution_count": 124,
   "id": "65c43013",
   "metadata": {},
   "outputs": [],
   "source": [
    "collect.append(ml_slice)"
   ]
  },
  {
   "cell_type": "markdown",
   "id": "e53917e7",
   "metadata": {},
   "source": [
    "Colonies retraction (https://docs.google.com/spreadsheets/d/1UJTXEdBCNU1jpEP0kX2T1p3zgGJG2Z8-7A6ydyTeIfs/edit#gid=0)"
   ]
  },
  {
   "cell_type": "code",
   "execution_count": 125,
   "id": "ddd7cb4e",
   "metadata": {},
   "outputs": [],
   "source": [
    "paper_mill_df = pd.read_csv('../data/colonies retraction - Sheet1.csv')"
   ]
  },
  {
   "cell_type": "code",
   "execution_count": 126,
   "id": "05bc70c4",
   "metadata": {
    "scrolled": true
   },
   "outputs": [],
   "source": [
    "ml_slice = pd.DataFrame({'doi':paper_mill_df['DOI'].dropna(), 'set':'colonies_retraction'})"
   ]
  },
  {
   "cell_type": "code",
   "execution_count": 127,
   "id": "e6a05c8b",
   "metadata": {},
   "outputs": [],
   "source": [
    "collect.append(ml_slice)"
   ]
  },
  {
   "cell_type": "markdown",
   "id": "fdb2109e",
   "metadata": {},
   "source": [
    "Chen & Chen (https://docs.google.com/spreadsheets/d/1eg1cpCNkpScSl1cjTYww2bLxKnqu2KkxXpGj0RlK0hE/edit#gid=0)"
   ]
  },
  {
   "cell_type": "markdown",
   "id": "57c67121",
   "metadata": {},
   "source": [
    "paper_mill_df = pd.read_csv('../data/Chen & Chen - Sheet1.csv')"
   ]
  },
  {
   "cell_type": "markdown",
   "id": "8a58ea5a",
   "metadata": {},
   "source": [
    "ml_slice = pd.DataFrame({'doi':paper_mill_df['DOI'].dropna(), 'set':'chen_chen'})"
   ]
  },
  {
   "cell_type": "markdown",
   "id": "abf67606",
   "metadata": {},
   "source": [
    "ml_slice = ml_slice[ml_slice['doi'].values != 'None']"
   ]
  },
  {
   "cell_type": "markdown",
   "id": "7614953d",
   "metadata": {},
   "source": [
    "collect.append(ml_slice)"
   ]
  },
  {
   "cell_type": "markdown",
   "id": "ee12e14c",
   "metadata": {},
   "source": [
    "Jianguo Cao (https://docs.google.com/spreadsheets/d/1nQD3Bvb-BPOlr8gke1JeKOt3DIGqEvq_dKRWVoqpRwE/edit#gid=0)\n",
    "This is an individual lab -- speculated not to be a paper mill set."
   ]
  },
  {
   "cell_type": "markdown",
   "id": "17ad88aa",
   "metadata": {},
   "source": [
    "paper_mill_df = pd.read_csv('../data/Jianguo Cao - Sheet1.csv')"
   ]
  },
  {
   "cell_type": "markdown",
   "id": "f55cb360",
   "metadata": {
    "scrolled": true
   },
   "source": [
    "ml_slice = ml[ml['pubmed_id'].isin(paper_mill_df['PMID']) | \n",
    "                    ml['doi'].isin(paper_mill_df['DOI'])]['pubmed_id'].values\n",
    "print(len(ml_slice))"
   ]
  },
  {
   "cell_type": "markdown",
   "id": "781e5753",
   "metadata": {},
   "source": [
    "pmid_array.append(ml_slice)"
   ]
  },
  {
   "cell_type": "markdown",
   "id": "6c9e27ca",
   "metadata": {},
   "source": [
    "Na Lin (https://docs.google.com/spreadsheets/d/1b7tBl7OZgoo719d-Ti7satjMdbcG-G0mH4un8kFJH1Y/edit#gid=0)\n",
    "This is an individual lab -- speculated not to be a paper mill set."
   ]
  },
  {
   "cell_type": "markdown",
   "id": "1420631a",
   "metadata": {},
   "source": [
    "paper_mill_df = pd.read_csv('../data/Na Lin - Sheet1.csv')"
   ]
  },
  {
   "cell_type": "markdown",
   "id": "22c149da",
   "metadata": {
    "scrolled": true
   },
   "source": [
    "ml_slice = ml[ml['pubmed_id'].isin(paper_mill_df['doi']) | \n",
    "                    ml['doi'].isin(paper_mill_df['doi'])]['pubmed_id'].values\n",
    "print(len(ml_slice))"
   ]
  },
  {
   "cell_type": "markdown",
   "id": "b062de21",
   "metadata": {},
   "source": [
    "pmid_array.append(ml_slice)"
   ]
  },
  {
   "cell_type": "markdown",
   "id": "352a43e2",
   "metadata": {},
   "source": [
    "Kumar (https://docs.google.com/spreadsheets/d/1M5Mt4XcNHxeV6N5LVn9P_JgiE1kDh0qDlloijcy6tfw/edit#gid=0) This is an individual lab -- speculated not to be a paper mill set."
   ]
  },
  {
   "cell_type": "markdown",
   "id": "9db37066",
   "metadata": {},
   "source": [
    "paper_mill_df = pd.read_csv('../data/Kumar - Sheet1.csv')"
   ]
  },
  {
   "cell_type": "markdown",
   "id": "a683c25b",
   "metadata": {
    "scrolled": true
   },
   "source": [
    "ml_slice = ml[ml['pubmed_id'].isin(paper_mill_df['PMID']) | \n",
    "                    ml['doi'].isin(paper_mill_df['DOI'])]['pubmed_id'].values\n",
    "print(len(ml_slice))"
   ]
  },
  {
   "cell_type": "markdown",
   "id": "c1ba8b07",
   "metadata": {},
   "source": [
    "pmid_array.append(ml_slice)"
   ]
  },
  {
   "cell_type": "markdown",
   "id": "128241d0",
   "metadata": {},
   "source": [
    "Xing Lin (https://docs.google.com/spreadsheets/d/1kLmVjLHu7-efS0GayGNYpbw2il6oGvNxc2DiN3trIUs/edit#gid=0) This is an individual lab -- speculated not to be a paper mill set."
   ]
  },
  {
   "cell_type": "markdown",
   "id": "e3f5e1e6",
   "metadata": {},
   "source": [
    "paper_mill_df = pd.read_csv('../data/Xing Lin - Sheet1.csv')"
   ]
  },
  {
   "cell_type": "markdown",
   "id": "8f4cf470",
   "metadata": {
    "scrolled": true
   },
   "source": [
    "ml_slice = ml[ml['pubmed_id'].isin(paper_mill_df['DOI']) | \n",
    "                    ml['doi'].isin(paper_mill_df['DOI'])]['pubmed_id'].values\n",
    "print(len(ml_slice))"
   ]
  },
  {
   "cell_type": "markdown",
   "id": "8865c28b",
   "metadata": {},
   "source": [
    "pmid_array.append(ml_slice)"
   ]
  },
  {
   "cell_type": "markdown",
   "id": "1169d736",
   "metadata": {},
   "source": [
    "Guoqiang Zhao (https://docs.google.com/spreadsheets/d/1nYXJoa_XAh6KP89UE5P18o8e4qNjhn3Lgm9VGrvmMd0/edit#gid=0) This is an individual lab -- speculated not to be a paper mill set."
   ]
  },
  {
   "cell_type": "markdown",
   "id": "619622e4",
   "metadata": {},
   "source": [
    "paper_mill_df = pd.read_csv('../data/Guoqiang Zhao - Sheet1.csv')"
   ]
  },
  {
   "cell_type": "markdown",
   "id": "e5cf0b28",
   "metadata": {
    "scrolled": true
   },
   "source": [
    "ml_slice = ml[ml['pubmed_id'].isin(paper_mill_df['PMID']) | \n",
    "                    ml['doi'].isin(paper_mill_df['DOI'])]['pubmed_id'].values\n",
    "print(len(ml_slice))"
   ]
  },
  {
   "cell_type": "markdown",
   "id": "7e295b8b",
   "metadata": {},
   "source": [
    "pmid_array.append(ml_slice)"
   ]
  },
  {
   "cell_type": "markdown",
   "id": "b5e68937",
   "metadata": {},
   "source": [
    "Tadpole Paper Mill (https://docs.google.com/spreadsheets/d/1KXqTAyl4j-jVorFPMD2XRpr76LcIKJ0CVyIvRj0exYQ/edit#gid=0)"
   ]
  },
  {
   "cell_type": "code",
   "execution_count": 128,
   "id": "c36a7414",
   "metadata": {},
   "outputs": [],
   "source": [
    "paper_mill_df = pd.read_csv('../data/tadpole Papermill Productions - Sheet1.csv')"
   ]
  },
  {
   "cell_type": "code",
   "execution_count": 129,
   "id": "3bb6b615",
   "metadata": {},
   "outputs": [],
   "source": [
    "ml_slice = pd.DataFrame({'doi':paper_mill_df['DOI'].dropna(), 'set':'tadpole'})"
   ]
  },
  {
   "cell_type": "code",
   "execution_count": 130,
   "id": "491e226b",
   "metadata": {},
   "outputs": [
    {
     "name": "stdout",
     "output_type": "stream",
     "text": [
      "632\n"
     ]
    }
   ],
   "source": [
    "print(len(ml_slice))"
   ]
  },
  {
   "cell_type": "code",
   "execution_count": 131,
   "id": "653bc847",
   "metadata": {},
   "outputs": [],
   "source": [
    "collect.append(ml_slice)"
   ]
  },
  {
   "cell_type": "markdown",
   "id": "780a418d",
   "metadata": {},
   "source": [
    "Contractor 2 (https://docs.google.com/spreadsheets/d/1pPYTzjKrMr2WKluJveMqtkR4ElyhQuLIqVWXmZutgLc/edit#gid=0)"
   ]
  },
  {
   "cell_type": "code",
   "execution_count": 132,
   "id": "5aff73a4",
   "metadata": {},
   "outputs": [],
   "source": [
    "paper_mill_df = pd.read_csv('../data/Contractor 2 - Sheet1.csv')"
   ]
  },
  {
   "cell_type": "code",
   "execution_count": 133,
   "id": "08d4eafe",
   "metadata": {},
   "outputs": [],
   "source": [
    "ml_slice = pd.DataFrame({'doi':paper_mill_df['DOI / link'].dropna(), 'set':'contractor_2'})"
   ]
  },
  {
   "cell_type": "code",
   "execution_count": 134,
   "id": "c05907e2",
   "metadata": {},
   "outputs": [
    {
     "name": "stdout",
     "output_type": "stream",
     "text": [
      "108\n"
     ]
    }
   ],
   "source": [
    "print(len(ml_slice))"
   ]
  },
  {
   "cell_type": "code",
   "execution_count": 135,
   "id": "a668e702",
   "metadata": {},
   "outputs": [],
   "source": [
    "collect.append(ml_slice)"
   ]
  },
  {
   "cell_type": "markdown",
   "id": "576569be",
   "metadata": {},
   "source": [
    "Iranian Plant Paper Mill (https://docs.google.com/spreadsheets/d/1nSJa5OCqYVVhSd10NN6mvI73Ra0Pfjwx3aMLwHtgGAI/edit#gid=0)"
   ]
  },
  {
   "cell_type": "code",
   "execution_count": 136,
   "id": "8a09d9d8",
   "metadata": {},
   "outputs": [],
   "source": [
    "paper_mill_df = pd.read_csv('../data/Iranian Plant Paper Mill list - Sheet1.csv')"
   ]
  },
  {
   "cell_type": "code",
   "execution_count": 137,
   "id": "e24873c9",
   "metadata": {},
   "outputs": [],
   "source": [
    "ml_slice = pd.DataFrame({'doi':paper_mill_df['DOIorPMID'].dropna(), 'set':'iranian_plant'})"
   ]
  },
  {
   "cell_type": "code",
   "execution_count": 138,
   "id": "283c1c78",
   "metadata": {},
   "outputs": [],
   "source": [
    "collect.append(\n",
    "    ml_slice\n",
    ")"
   ]
  },
  {
   "cell_type": "markdown",
   "id": "a5f0b135",
   "metadata": {},
   "source": [
    "Stock photo paper mill (https://docs.google.com/spreadsheets/d/172RWS18w1lTNJ9Nnj80fuXXTqTm4fGkoK0sdYyvKE3g/edit#gid=0)"
   ]
  },
  {
   "cell_type": "code",
   "execution_count": 139,
   "id": "867f389e",
   "metadata": {},
   "outputs": [],
   "source": [
    "paper_mill_df = pd.read_csv('../data/Stockphoto PaperMill July 6 2020 Public Version - 121Papers.csv')"
   ]
  },
  {
   "cell_type": "code",
   "execution_count": 140,
   "id": "768eff2e",
   "metadata": {},
   "outputs": [],
   "source": [
    "ml_slice = pd.DataFrame({'doi':paper_mill_df['DOI'].dropna(), 'set':'stock_photo'})"
   ]
  },
  {
   "cell_type": "code",
   "execution_count": 141,
   "id": "8f0db568",
   "metadata": {},
   "outputs": [
    {
     "name": "stdout",
     "output_type": "stream",
     "text": [
      "124\n"
     ]
    }
   ],
   "source": [
    "print(len(ml_slice))"
   ]
  },
  {
   "cell_type": "code",
   "execution_count": 142,
   "id": "ee9adcb3",
   "metadata": {},
   "outputs": [],
   "source": [
    "collect.append(ml_slice)"
   ]
  },
  {
   "cell_type": "markdown",
   "id": "71db6e2b",
   "metadata": {},
   "source": [
    "Effect paper mill (https://scienceintegritydigest.files.wordpress.com/2020/07/effect-paper-mill.xlsx)"
   ]
  },
  {
   "cell_type": "code",
   "execution_count": 143,
   "id": "6b74245f",
   "metadata": {},
   "outputs": [],
   "source": [
    "paper_mill_df = pd.read_csv('../data/effect-paper-mill.csv', encoding='latin')"
   ]
  },
  {
   "cell_type": "code",
   "execution_count": 144,
   "id": "912cdf24",
   "metadata": {},
   "outputs": [],
   "source": [
    "ml_slice = pd.DataFrame({'doi':paper_mill_df['DOI'].dropna(), 'set':'effect'})"
   ]
  },
  {
   "cell_type": "code",
   "execution_count": 145,
   "id": "5a64663a",
   "metadata": {},
   "outputs": [
    {
     "name": "stdout",
     "output_type": "stream",
     "text": [
      "11\n"
     ]
    }
   ],
   "source": [
    "print(len(ml_slice))"
   ]
  },
  {
   "cell_type": "code",
   "execution_count": 146,
   "id": "3992999c",
   "metadata": {},
   "outputs": [],
   "source": [
    "collect.append(\n",
    "ml_slice\n",
    ")"
   ]
  },
  {
   "cell_type": "markdown",
   "id": "ef158a1a",
   "metadata": {},
   "source": [
    "Golden arches set (https://scienceintegritydigest.com/2020/07/02/the-golden-arches-paper-set/)"
   ]
  },
  {
   "cell_type": "code",
   "execution_count": 147,
   "id": "f6b51cc4",
   "metadata": {},
   "outputs": [],
   "source": [
    "doi_set = ['10.26355/eurrev_202003_20504',\n",
    " '10.2147/ott.s236162',\n",
    " '10.26355/eurrev_201909_18855', \n",
    " '10.26355/eurrev_201905_17920']"
   ]
  },
  {
   "cell_type": "code",
   "execution_count": 148,
   "id": "40ab577b",
   "metadata": {},
   "outputs": [],
   "source": [
    "ml_slice = pd.DataFrame({'doi':doi_set, 'set':'golden_arches'})"
   ]
  },
  {
   "cell_type": "code",
   "execution_count": 149,
   "id": "d7ed3134",
   "metadata": {},
   "outputs": [],
   "source": [
    "collect.append(\n",
    "ml_slice\n",
    ")"
   ]
  },
  {
   "cell_type": "markdown",
   "id": "42c5f94c",
   "metadata": {},
   "source": [
    "48 mini mill (https://scienceintegritydigest.com/2020/07/28/the-48-mini-mill/)"
   ]
  },
  {
   "cell_type": "code",
   "execution_count": 150,
   "id": "0c048c95",
   "metadata": {},
   "outputs": [],
   "source": [
    "doi_set = ['10.26355/eurrev_201912_19782',\n",
    " '10.26355/eurrev_202004_21014', \n",
    " '10.26355/eurrev_202004_20837',\n",
    " '10.26355/eurrev_202002_20178',\n",
    " '10.26355/eurrev_202004_20817'\n",
    "]"
   ]
  },
  {
   "cell_type": "code",
   "execution_count": 151,
   "id": "1d62e8fd",
   "metadata": {},
   "outputs": [],
   "source": [
    "ml_slice = pd.DataFrame({'doi':doi_set, 'set':'mini_mill'})"
   ]
  },
  {
   "cell_type": "code",
   "execution_count": 152,
   "id": "14eba4fc",
   "metadata": {},
   "outputs": [],
   "source": [
    "collect.append(\n",
    "ml_slice\n",
    ")"
   ]
  },
  {
   "cell_type": "markdown",
   "id": "24f78a76",
   "metadata": {},
   "source": [
    "Traveling tumor(https://docs.google.com/spreadsheets/d/19wUtpXazLg2zKbTpDBuq0smG6-A7VHYifkieoyyuTcQ/edit#gid=0)"
   ]
  },
  {
   "cell_type": "code",
   "execution_count": 153,
   "id": "62a7f37c",
   "metadata": {},
   "outputs": [],
   "source": [
    "paper_mill_df = pd.read_csv('../data/TravelingTumor - Sheet1.csv')"
   ]
  },
  {
   "cell_type": "code",
   "execution_count": 154,
   "id": "501cd397",
   "metadata": {},
   "outputs": [],
   "source": [
    "ml_slice = pd.DataFrame({'doi':paper_mill_df['Unnamed: 4'].dropna(), 'set':'traveling_tumor'})"
   ]
  },
  {
   "cell_type": "code",
   "execution_count": 155,
   "id": "c30f8d3a",
   "metadata": {},
   "outputs": [],
   "source": [
    "collect.append(\n",
    "ml_slice\n",
    ")"
   ]
  },
  {
   "cell_type": "markdown",
   "id": "e625dc99",
   "metadata": {},
   "source": [
    "Cangzhou aging mill (https://docs.google.com/spreadsheets/d/1nByrktm4HCILKHEcQNMJY9vBHyYyJgTqVwctPGnw4PI/edit#gid=0)"
   ]
  },
  {
   "cell_type": "code",
   "execution_count": 156,
   "id": "c375437c",
   "metadata": {},
   "outputs": [],
   "source": [
    "paper_mill_df = pd.read_csv('../data/Cangzhou - Aging - Sheet1.csv')"
   ]
  },
  {
   "cell_type": "code",
   "execution_count": 157,
   "id": "687a76c5",
   "metadata": {},
   "outputs": [],
   "source": [
    "ml_slice = pd.DataFrame({'doi':paper_mill_df['DOI'].dropna(), 'set':'cangzhou_aging'})"
   ]
  },
  {
   "cell_type": "code",
   "execution_count": 158,
   "id": "06b1be65",
   "metadata": {},
   "outputs": [],
   "source": [
    "collect.append(\n",
    "ml_slice\n",
    ")"
   ]
  },
  {
   "cell_type": "markdown",
   "id": "b81b0b05",
   "metadata": {},
   "source": [
    "Tanu.pro (https://docs.google.com/spreadsheets/d/1nkfI2bGmbBEiRV0P-XDojz9l0p7-6Uqh6GmiJLpc5Ck/edit#gid=0)"
   ]
  },
  {
   "cell_type": "code",
   "execution_count": 159,
   "id": "cda027ea",
   "metadata": {},
   "outputs": [],
   "source": [
    "paper_mill_df = pd.read_csv('../data/Tanu_pro - sheet1.csv', header=1)"
   ]
  },
  {
   "cell_type": "code",
   "execution_count": 160,
   "id": "85934dd0",
   "metadata": {},
   "outputs": [],
   "source": [
    "ml_slice = pd.DataFrame({'doi':paper_mill_df['Doi'].dropna(), 'set':'tanu_pro'})"
   ]
  },
  {
   "cell_type": "code",
   "execution_count": 161,
   "id": "fe2686cc",
   "metadata": {},
   "outputs": [],
   "source": [
    "collect.append(ml_slice)"
   ]
  },
  {
   "cell_type": "markdown",
   "id": "80031d84",
   "metadata": {},
   "source": [
    "PubPeer image sharing"
   ]
  },
  {
   "cell_type": "code",
   "execution_count": 7,
   "id": "11e617c8",
   "metadata": {},
   "outputs": [
    {
     "name": "stderr",
     "output_type": "stream",
     "text": [
      "C:\\Users\\richa\\AppData\\Local\\Temp\\ipykernel_168\\4117159445.py:1: DtypeWarning: Columns (1,3,4) have mixed types. Specify dtype option on import or set low_memory=False.\n",
      "  pubpeer_df = pd.read_csv('C:/Users/richa/OneDrive - Northwestern University/pubpeer_comments_20240201.csv')\n"
     ]
    }
   ],
   "source": [
    "pubpeer_df = pd.read_csv('C:/Users/richa/OneDrive - Northwestern University/pubpeer_comments_20240201.csv')"
   ]
  },
  {
   "cell_type": "code",
   "execution_count": 8,
   "id": "79f8457f",
   "metadata": {},
   "outputs": [],
   "source": [
    "pubpeer_df['comment_datetime'] = pd.to_datetime(pubpeer_df['comment timestamp'], errors='coerce')\n",
    "\n",
    "pubpeer_df['pub_datetime'] = pd.to_datetime(pubpeer_df['Publication date'], errors='ignore')\n",
    "\n",
    "pubpeer_df['comment_year'] = [x.year for x in pubpeer_df['comment_datetime']]\n",
    "\n",
    "pubpeer_df['pub_year'] = [x.year for x in pubpeer_df['pub_datetime']]\n",
    "\n",
    "pubpeer_df['id'] = pubpeer_df['ids'].astype(str).apply(lambda x: x.split(','))\n",
    "\n",
    "pubpeer_df = pubpeer_df.explode('id')"
   ]
  },
  {
   "cell_type": "code",
   "execution_count": 9,
   "id": "bc6d6abd",
   "metadata": {},
   "outputs": [],
   "source": [
    "pubpeer_df['paper_link'] = pubpeer_df['Pubpeer Link'].astype(str).apply(lambda x: '/'.join(x.split('/')[:-1])).values"
   ]
  },
  {
   "cell_type": "code",
   "execution_count": 13,
   "id": "2a2475b3",
   "metadata": {},
   "outputs": [
    {
     "data": {
      "text/plain": [
       "nan                             6396\n",
       "10.1007/s10773-014-2412-2        754\n",
       "10.1104/pp.15.01443              361\n",
       "10.1371/journal.pone.0108482     349\n",
       "10.3389/feart.2019.00223         309\n",
       "                                ... \n",
       "10.1016/j.egypro.2014.07.185       1\n",
       "10.1016/j.aqpro.2015.02.182        1\n",
       "10.1016/j.proeng.2015.04.091       1\n",
       "10.1016/j.proeng.2015.09.058       1\n",
       "10.1155/2019/8574386               1\n",
       "Name: id, Length: 105326, dtype: int64"
      ]
     },
     "execution_count": 13,
     "metadata": {},
     "output_type": "execute_result"
    }
   ],
   "source": [
    "pubpeer_df['id'].value_counts()"
   ]
  },
  {
   "cell_type": "code",
   "execution_count": 165,
   "id": "9f9fc4fe",
   "metadata": {},
   "outputs": [],
   "source": [
    "image_sharing = pd.read_csv('../data/240411_partial_pubpeer_graph.csv')"
   ]
  },
  {
   "cell_type": "code",
   "execution_count": 166,
   "id": "e7fde8d3",
   "metadata": {},
   "outputs": [],
   "source": [
    "dois = pubpeer_df[pubpeer_df['paper_link'].isin(set(image_sharing['source'].values) | set(image_sharing['target'].values))]['id'].unique()"
   ]
  },
  {
   "cell_type": "code",
   "execution_count": 167,
   "id": "61d2f147",
   "metadata": {},
   "outputs": [],
   "source": [
    "dois = [doi.lower() for doi in dois]"
   ]
  },
  {
   "cell_type": "code",
   "execution_count": 168,
   "id": "a2c79a22",
   "metadata": {},
   "outputs": [],
   "source": [
    "ml_slice = pd.DataFrame({'doi':dois, 'set':'pubpeer_image_sharing'})"
   ]
  },
  {
   "cell_type": "code",
   "execution_count": 169,
   "id": "449964bd",
   "metadata": {},
   "outputs": [],
   "source": [
    "collect.append(ml_slice)"
   ]
  },
  {
   "cell_type": "markdown",
   "id": "db1b13a0",
   "metadata": {},
   "source": [
    "PubPeer paper mill"
   ]
  },
  {
   "cell_type": "code",
   "execution_count": 170,
   "id": "2721ee50",
   "metadata": {},
   "outputs": [],
   "source": [
    "dois = pubpeer_df[pubpeer_df['html'].astype(str).str.contains('paper.mill') | \\\n",
    "          pubpeer_df['html'].astype(str).str.contains('papermill')]['id'].str.lower().unique()\n"
   ]
  },
  {
   "cell_type": "code",
   "execution_count": 171,
   "id": "4359f91b",
   "metadata": {},
   "outputs": [],
   "source": [
    "ml_slice = pd.DataFrame({'doi':dois, 'set':'pubpeer_paper_mill'})"
   ]
  },
  {
   "cell_type": "code",
   "execution_count": 172,
   "id": "3d665da4",
   "metadata": {},
   "outputs": [],
   "source": [
    "collect.append(ml_slice)"
   ]
  },
  {
   "cell_type": "markdown",
   "id": "ed6c5ce1",
   "metadata": {},
   "source": [
    "SEM misidentification"
   ]
  },
  {
   "cell_type": "code",
   "execution_count": 173,
   "id": "d398fb1a",
   "metadata": {},
   "outputs": [],
   "source": [
    "label_df = pd.read_csv('../data/240107_combined_sem_labels.csv')"
   ]
  },
  {
   "cell_type": "code",
   "execution_count": 174,
   "id": "7dfb0718",
   "metadata": {},
   "outputs": [],
   "source": [
    "ml_slice = pd.DataFrame({'doi':label_df[label_df['problematic']]['doi'].str.lower(), 'set':'sem_misid'})"
   ]
  },
  {
   "cell_type": "code",
   "execution_count": 175,
   "id": "fcb65354",
   "metadata": {},
   "outputs": [],
   "source": [
    "collect.append(ml_slice)"
   ]
  },
  {
   "cell_type": "markdown",
   "id": "a67551b5",
   "metadata": {},
   "source": [
    "Hudiandian (http://www.5gh.org.cn/WuGH/20240401.001.html)"
   ]
  },
  {
   "cell_type": "code",
   "execution_count": 176,
   "id": "9906ddf0",
   "metadata": {},
   "outputs": [],
   "source": [
    "dois = ['10.1149/1945-7111/ab6cf3', \n",
    "        '10.1002/elan.201900638', '10.3390/nano9111583', \n",
    "        '10.1016/j.jpowsour.2020.227872', \n",
    "        '10.1021/acssuschemeng.0c01450', \n",
    "        '10.1007/s00604-019-3463-0']"
   ]
  },
  {
   "cell_type": "code",
   "execution_count": 177,
   "id": "9f7c71dc",
   "metadata": {},
   "outputs": [],
   "source": [
    "ml_slice = pd.DataFrame({'doi':dois, 'set':'hudiandian'})"
   ]
  },
  {
   "cell_type": "code",
   "execution_count": 178,
   "id": "e6a3893c",
   "metadata": {},
   "outputs": [],
   "source": [
    "collect.append(ml_slice)"
   ]
  },
  {
   "cell_type": "markdown",
   "id": "f7c528a8",
   "metadata": {},
   "source": [
    "Tortured phrases (PPS)"
   ]
  },
  {
   "cell_type": "code",
   "execution_count": 179,
   "id": "8202c6fb",
   "metadata": {},
   "outputs": [],
   "source": [
    "tort_df = pd.read_csv('../data/240321_tortured_phrases.csv')"
   ]
  },
  {
   "cell_type": "code",
   "execution_count": 180,
   "id": "af416f6a",
   "metadata": {},
   "outputs": [],
   "source": [
    "ml_slice = pd.DataFrame({'doi':tort_df['DOI'].values, 'set':'pps_tortured'})"
   ]
  },
  {
   "cell_type": "code",
   "execution_count": 181,
   "id": "33c8d704",
   "metadata": {},
   "outputs": [],
   "source": [
    "collect.append(ml_slice)"
   ]
  },
  {
   "cell_type": "markdown",
   "id": "0c329154",
   "metadata": {},
   "source": [
    "Compile"
   ]
  },
  {
   "cell_type": "code",
   "execution_count": 182,
   "id": "a081c5c5",
   "metadata": {},
   "outputs": [],
   "source": [
    "ml_slice = pd.concat(collect).reset_index(drop=True)"
   ]
  },
  {
   "cell_type": "code",
   "execution_count": 183,
   "id": "3d0f02d1",
   "metadata": {},
   "outputs": [],
   "source": [
    "ml_slice = ml_slice[~ml_slice['doi'].isin(['', 'unavailable', 'No DOI, no PMID'])]"
   ]
  },
  {
   "cell_type": "code",
   "execution_count": 184,
   "id": "1e142710",
   "metadata": {},
   "outputs": [],
   "source": [
    "ml_slice['doi'] = ml_slice['doi'].str.lower()"
   ]
  },
  {
   "cell_type": "code",
   "execution_count": 185,
   "id": "e89b32ff",
   "metadata": {},
   "outputs": [],
   "source": [
    "ml_slice.to_csv('../data/paper_mill_dois_240418.csv', index=False)"
   ]
  },
  {
   "cell_type": "code",
   "execution_count": 186,
   "id": "e606d6a9",
   "metadata": {},
   "outputs": [
    {
     "data": {
      "text/plain": [
       "32786"
      ]
     },
     "execution_count": 186,
     "metadata": {},
     "output_type": "execute_result"
    }
   ],
   "source": [
    "ml_slice['doi'].str.lower().nunique()"
   ]
  },
  {
   "cell_type": "code",
   "execution_count": 192,
   "id": "e67c388b",
   "metadata": {},
   "outputs": [
    {
     "data": {
      "text/plain": [
       "pps_tortured                  14224\n",
       "hindawi                        6666\n",
       "rw_paper_mill                  3572\n",
       "pubpeer_paper_mill             2747\n",
       "sem_misid                      2400\n",
       "pubpeer_image_sharing          2060\n",
       "contractor                     1233\n",
       "tanu_pro                        908\n",
       "citations_crystallography       847\n",
       "meta_analyses                   692\n",
       "tadpole                         632\n",
       "citations_misc                  462\n",
       "direct_targeting                288\n",
       "fragments                       215\n",
       "ncrna_combs                     211\n",
       "mitochondria                    200\n",
       "shanghai                        188\n",
       "spandidos_csu_1                 131\n",
       "buon                            131\n",
       "stock_photo                     124\n",
       "jilin_university                120\n",
       "continuation                    120\n",
       "citations_zhende                111\n",
       "eyebrows                        110\n",
       "contractor_2                    108\n",
       "cell_cycle                      106\n",
       "ermps                            91\n",
       "paint_it_black                   85\n",
       "herbal                           80\n",
       "sponges                          74\n",
       "iranian_plant                    72\n",
       "necessary_facilities             71\n",
       "all_patients                     70\n",
       "traveling_tumor                  69\n",
       "maths                            65\n",
       "cangzhou_aging                   60\n",
       "backup                           57\n",
       "citations_ceramint               44\n",
       "citations_tcm                    41\n",
       "colonies_retraction              38\n",
       "gmr                              33\n",
       "crochet                          29\n",
       "spandidos_csu_2                  26\n",
       "shaanxi                          26\n",
       "not_hindawi                      23\n",
       "smol                             14\n",
       "citations_zhao_zhang             14\n",
       "transwell                        14\n",
       "effect                           11\n",
       "citations_monolayers             11\n",
       "citations_petroleum               9\n",
       "citations_electrochemistry        9\n",
       "hudiandian                        6\n",
       "mini_mill                         5\n",
       "golden_arches                     4\n",
       "Name: set, dtype: int64"
      ]
     },
     "execution_count": 192,
     "metadata": {},
     "output_type": "execute_result"
    }
   ],
   "source": [
    "ml_slice['set'].value_counts()"
   ]
  },
  {
   "cell_type": "markdown",
   "id": "e88b46d0",
   "metadata": {},
   "source": [
    "Characterize"
   ]
  },
  {
   "cell_type": "code",
   "execution_count": 7,
   "id": "444c8972",
   "metadata": {},
   "outputs": [],
   "source": [
    "paper_mill_df = pd.read_csv('../data/paper_mill_dois_240418.csv')"
   ]
  },
  {
   "cell_type": "code",
   "execution_count": 8,
   "id": "59792eb4",
   "metadata": {},
   "outputs": [
    {
     "name": "stdout",
     "output_type": "stream",
     "text": [
      "CPU times: total: 2min 47s\n",
      "Wall time: 3min\n"
     ]
    }
   ],
   "source": [
    "%%time\n",
    "doi_list_1 = paper_mill_df['doi'].values\n",
    "\n",
    "doi_list_2 = paper_mill_df['doi'].apply(lambda x: 'https://doi.org/' + str(x)).values\n",
    "\n",
    "doi_list = list(set(doi_list_2) | set(doi_list_1))\n",
    "\n",
    "paper_mill_works = openalex.works(\n",
    "            dataset = 'main', \n",
    "            filters={'doi': doi_list})"
   ]
  },
  {
   "cell_type": "code",
   "execution_count": 10,
   "id": "65f45bee",
   "metadata": {},
   "outputs": [],
   "source": [
    "paper_mill_df['doi'] = paper_mill_df['doi'].apply(lambda x: 'https://doi.org/' + str(x)).values"
   ]
  },
  {
   "cell_type": "code",
   "execution_count": 11,
   "id": "5d25bdce",
   "metadata": {},
   "outputs": [],
   "source": [
    "paper_mill_works = pd.merge(paper_mill_works, paper_mill_df, on='doi', how='outer')"
   ]
  },
  {
   "cell_type": "code",
   "execution_count": 13,
   "id": "ed4fe030",
   "metadata": {},
   "outputs": [],
   "source": [
    "paper_mill_works['in_openalex'] = ~paper_mill_works['work_id'].isna()"
   ]
  },
  {
   "cell_type": "code",
   "execution_count": 14,
   "id": "c8d0d34b",
   "metadata": {},
   "outputs": [],
   "source": [
    "prop_table = paper_mill_works.groupby(['set', 'in_openalex'])['doi'].nunique().reset_index().pivot(index='set', columns='in_openalex', values='doi')"
   ]
  },
  {
   "cell_type": "code",
   "execution_count": 15,
   "id": "e129388e",
   "metadata": {},
   "outputs": [],
   "source": [
    "prop_table = prop_table.fillna(0.0).astype(int)\n",
    "prop_table.columns = ['not_in_openalex', 'in_openalex']\n",
    "prop_table['total'] = prop_table['in_openalex'] + prop_table['not_in_openalex']"
   ]
  },
  {
   "cell_type": "code",
   "execution_count": 17,
   "id": "8e8fb1dc",
   "metadata": {},
   "outputs": [],
   "source": [
    "paper_mill_works = paper_mill_works.set_index('doi')\n",
    "paper_mill_works['n_sets'] = paper_mill_works.groupby('doi')['set'].nunique()\n",
    "paper_mill_works = paper_mill_works.reset_index()"
   ]
  },
  {
   "cell_type": "code",
   "execution_count": 18,
   "id": "c72d3962",
   "metadata": {},
   "outputs": [],
   "source": [
    "paper_mill_works['multiple_sets'] = paper_mill_works['n_sets'] >= 2"
   ]
  },
  {
   "cell_type": "code",
   "execution_count": 19,
   "id": "b1971607",
   "metadata": {},
   "outputs": [],
   "source": [
    "prop_table['in_openalex_and_in_multiple_sets'] = paper_mill_works[paper_mill_works['in_openalex'] & paper_mill_works['multiple_sets']].groupby('set').nunique()['doi']"
   ]
  },
  {
   "cell_type": "code",
   "execution_count": 20,
   "id": "6a8412e4",
   "metadata": {},
   "outputs": [],
   "source": [
    "prop_table = prop_table.fillna(0.0).astype(int)"
   ]
  },
  {
   "cell_type": "code",
   "execution_count": 21,
   "id": "8197fbb8",
   "metadata": {},
   "outputs": [],
   "source": [
    "prop_table['percent_in_openalex'] = 100*prop_table['in_openalex']/prop_table['total']\n",
    "prop_table['percent_in_multiple_sets_in_openalex'] = 100*prop_table['in_openalex_and_in_multiple_sets']/prop_table['in_openalex']"
   ]
  },
  {
   "cell_type": "code",
   "execution_count": 22,
   "id": "592a3b8c",
   "metadata": {},
   "outputs": [],
   "source": [
    "prop_table.to_csv('../data/240614_paper_mill_sets_properties_table.csv')"
   ]
  },
  {
   "cell_type": "code",
   "execution_count": 23,
   "id": "d61165f7",
   "metadata": {},
   "outputs": [
    {
     "data": {
      "text/html": [
       "<div>\n",
       "<style scoped>\n",
       "    .dataframe tbody tr th:only-of-type {\n",
       "        vertical-align: middle;\n",
       "    }\n",
       "\n",
       "    .dataframe tbody tr th {\n",
       "        vertical-align: top;\n",
       "    }\n",
       "\n",
       "    .dataframe thead th {\n",
       "        text-align: right;\n",
       "    }\n",
       "</style>\n",
       "<table border=\"1\" class=\"dataframe\">\n",
       "  <thead>\n",
       "    <tr style=\"text-align: right;\">\n",
       "      <th></th>\n",
       "      <th>not_in_openalex</th>\n",
       "      <th>in_openalex</th>\n",
       "      <th>total</th>\n",
       "      <th>in_openalex_and_in_multiple_sets</th>\n",
       "      <th>percent_in_openalex</th>\n",
       "      <th>percent_in_multiple_sets_in_openalex</th>\n",
       "    </tr>\n",
       "    <tr>\n",
       "      <th>set</th>\n",
       "      <th></th>\n",
       "      <th></th>\n",
       "      <th></th>\n",
       "      <th></th>\n",
       "      <th></th>\n",
       "      <th></th>\n",
       "    </tr>\n",
       "  </thead>\n",
       "  <tbody>\n",
       "    <tr>\n",
       "      <th>all_patients</th>\n",
       "      <td>2</td>\n",
       "      <td>68</td>\n",
       "      <td>70</td>\n",
       "      <td>59</td>\n",
       "      <td>97.143</td>\n",
       "      <td>86.765</td>\n",
       "    </tr>\n",
       "    <tr>\n",
       "      <th>backup</th>\n",
       "      <td>0</td>\n",
       "      <td>57</td>\n",
       "      <td>57</td>\n",
       "      <td>57</td>\n",
       "      <td>100.000</td>\n",
       "      <td>100.000</td>\n",
       "    </tr>\n",
       "    <tr>\n",
       "      <th>buon</th>\n",
       "      <td>0</td>\n",
       "      <td>131</td>\n",
       "      <td>131</td>\n",
       "      <td>84</td>\n",
       "      <td>100.000</td>\n",
       "      <td>64.122</td>\n",
       "    </tr>\n",
       "    <tr>\n",
       "      <th>cangzhou_aging</th>\n",
       "      <td>0</td>\n",
       "      <td>60</td>\n",
       "      <td>60</td>\n",
       "      <td>35</td>\n",
       "      <td>100.000</td>\n",
       "      <td>58.333</td>\n",
       "    </tr>\n",
       "    <tr>\n",
       "      <th>cell_cycle</th>\n",
       "      <td>0</td>\n",
       "      <td>106</td>\n",
       "      <td>106</td>\n",
       "      <td>55</td>\n",
       "      <td>100.000</td>\n",
       "      <td>51.887</td>\n",
       "    </tr>\n",
       "    <tr>\n",
       "      <th>citations_ceramint</th>\n",
       "      <td>0</td>\n",
       "      <td>44</td>\n",
       "      <td>44</td>\n",
       "      <td>11</td>\n",
       "      <td>100.000</td>\n",
       "      <td>25.000</td>\n",
       "    </tr>\n",
       "    <tr>\n",
       "      <th>citations_crystallography</th>\n",
       "      <td>162</td>\n",
       "      <td>684</td>\n",
       "      <td>846</td>\n",
       "      <td>327</td>\n",
       "      <td>80.851</td>\n",
       "      <td>47.807</td>\n",
       "    </tr>\n",
       "    <tr>\n",
       "      <th>citations_electrochemistry</th>\n",
       "      <td>0</td>\n",
       "      <td>9</td>\n",
       "      <td>9</td>\n",
       "      <td>0</td>\n",
       "      <td>100.000</td>\n",
       "      <td>0.000</td>\n",
       "    </tr>\n",
       "    <tr>\n",
       "      <th>citations_misc</th>\n",
       "      <td>1</td>\n",
       "      <td>460</td>\n",
       "      <td>461</td>\n",
       "      <td>51</td>\n",
       "      <td>99.783</td>\n",
       "      <td>11.087</td>\n",
       "    </tr>\n",
       "    <tr>\n",
       "      <th>citations_monolayers</th>\n",
       "      <td>0</td>\n",
       "      <td>11</td>\n",
       "      <td>11</td>\n",
       "      <td>0</td>\n",
       "      <td>100.000</td>\n",
       "      <td>0.000</td>\n",
       "    </tr>\n",
       "    <tr>\n",
       "      <th>citations_petroleum</th>\n",
       "      <td>0</td>\n",
       "      <td>9</td>\n",
       "      <td>9</td>\n",
       "      <td>0</td>\n",
       "      <td>100.000</td>\n",
       "      <td>0.000</td>\n",
       "    </tr>\n",
       "    <tr>\n",
       "      <th>citations_tcm</th>\n",
       "      <td>1</td>\n",
       "      <td>40</td>\n",
       "      <td>41</td>\n",
       "      <td>0</td>\n",
       "      <td>97.561</td>\n",
       "      <td>0.000</td>\n",
       "    </tr>\n",
       "    <tr>\n",
       "      <th>citations_zhao_zhang</th>\n",
       "      <td>0</td>\n",
       "      <td>14</td>\n",
       "      <td>14</td>\n",
       "      <td>0</td>\n",
       "      <td>100.000</td>\n",
       "      <td>0.000</td>\n",
       "    </tr>\n",
       "    <tr>\n",
       "      <th>citations_zhende</th>\n",
       "      <td>28</td>\n",
       "      <td>83</td>\n",
       "      <td>111</td>\n",
       "      <td>57</td>\n",
       "      <td>74.775</td>\n",
       "      <td>68.675</td>\n",
       "    </tr>\n",
       "    <tr>\n",
       "      <th>colonies_retraction</th>\n",
       "      <td>1</td>\n",
       "      <td>37</td>\n",
       "      <td>38</td>\n",
       "      <td>33</td>\n",
       "      <td>97.368</td>\n",
       "      <td>89.189</td>\n",
       "    </tr>\n",
       "    <tr>\n",
       "      <th>continuation</th>\n",
       "      <td>4</td>\n",
       "      <td>116</td>\n",
       "      <td>120</td>\n",
       "      <td>101</td>\n",
       "      <td>96.667</td>\n",
       "      <td>87.069</td>\n",
       "    </tr>\n",
       "    <tr>\n",
       "      <th>contractor</th>\n",
       "      <td>5</td>\n",
       "      <td>1227</td>\n",
       "      <td>1232</td>\n",
       "      <td>656</td>\n",
       "      <td>99.594</td>\n",
       "      <td>53.464</td>\n",
       "    </tr>\n",
       "    <tr>\n",
       "      <th>contractor_2</th>\n",
       "      <td>10</td>\n",
       "      <td>98</td>\n",
       "      <td>108</td>\n",
       "      <td>4</td>\n",
       "      <td>90.741</td>\n",
       "      <td>4.082</td>\n",
       "    </tr>\n",
       "    <tr>\n",
       "      <th>crochet</th>\n",
       "      <td>0</td>\n",
       "      <td>29</td>\n",
       "      <td>29</td>\n",
       "      <td>5</td>\n",
       "      <td>100.000</td>\n",
       "      <td>17.241</td>\n",
       "    </tr>\n",
       "    <tr>\n",
       "      <th>direct_targeting</th>\n",
       "      <td>1</td>\n",
       "      <td>285</td>\n",
       "      <td>286</td>\n",
       "      <td>227</td>\n",
       "      <td>99.650</td>\n",
       "      <td>79.649</td>\n",
       "    </tr>\n",
       "    <tr>\n",
       "      <th>effect</th>\n",
       "      <td>2</td>\n",
       "      <td>9</td>\n",
       "      <td>11</td>\n",
       "      <td>8</td>\n",
       "      <td>81.818</td>\n",
       "      <td>88.889</td>\n",
       "    </tr>\n",
       "    <tr>\n",
       "      <th>ermps</th>\n",
       "      <td>5</td>\n",
       "      <td>86</td>\n",
       "      <td>91</td>\n",
       "      <td>16</td>\n",
       "      <td>94.505</td>\n",
       "      <td>18.605</td>\n",
       "    </tr>\n",
       "    <tr>\n",
       "      <th>eyebrows</th>\n",
       "      <td>0</td>\n",
       "      <td>110</td>\n",
       "      <td>110</td>\n",
       "      <td>53</td>\n",
       "      <td>100.000</td>\n",
       "      <td>48.182</td>\n",
       "    </tr>\n",
       "    <tr>\n",
       "      <th>fragments</th>\n",
       "      <td>0</td>\n",
       "      <td>215</td>\n",
       "      <td>215</td>\n",
       "      <td>110</td>\n",
       "      <td>100.000</td>\n",
       "      <td>51.163</td>\n",
       "    </tr>\n",
       "    <tr>\n",
       "      <th>gmr</th>\n",
       "      <td>0</td>\n",
       "      <td>33</td>\n",
       "      <td>33</td>\n",
       "      <td>25</td>\n",
       "      <td>100.000</td>\n",
       "      <td>75.758</td>\n",
       "    </tr>\n",
       "    <tr>\n",
       "      <th>golden_arches</th>\n",
       "      <td>0</td>\n",
       "      <td>4</td>\n",
       "      <td>4</td>\n",
       "      <td>1</td>\n",
       "      <td>100.000</td>\n",
       "      <td>25.000</td>\n",
       "    </tr>\n",
       "    <tr>\n",
       "      <th>herbal</th>\n",
       "      <td>0</td>\n",
       "      <td>80</td>\n",
       "      <td>80</td>\n",
       "      <td>74</td>\n",
       "      <td>100.000</td>\n",
       "      <td>92.500</td>\n",
       "    </tr>\n",
       "    <tr>\n",
       "      <th>hindawi</th>\n",
       "      <td>17</td>\n",
       "      <td>6649</td>\n",
       "      <td>6666</td>\n",
       "      <td>1375</td>\n",
       "      <td>99.745</td>\n",
       "      <td>20.680</td>\n",
       "    </tr>\n",
       "    <tr>\n",
       "      <th>hudiandian</th>\n",
       "      <td>0</td>\n",
       "      <td>6</td>\n",
       "      <td>6</td>\n",
       "      <td>0</td>\n",
       "      <td>100.000</td>\n",
       "      <td>0.000</td>\n",
       "    </tr>\n",
       "    <tr>\n",
       "      <th>iranian_plant</th>\n",
       "      <td>7</td>\n",
       "      <td>65</td>\n",
       "      <td>72</td>\n",
       "      <td>60</td>\n",
       "      <td>90.278</td>\n",
       "      <td>92.308</td>\n",
       "    </tr>\n",
       "    <tr>\n",
       "      <th>jilin_university</th>\n",
       "      <td>2</td>\n",
       "      <td>118</td>\n",
       "      <td>120</td>\n",
       "      <td>99</td>\n",
       "      <td>98.333</td>\n",
       "      <td>83.898</td>\n",
       "    </tr>\n",
       "    <tr>\n",
       "      <th>maths</th>\n",
       "      <td>0</td>\n",
       "      <td>65</td>\n",
       "      <td>65</td>\n",
       "      <td>16</td>\n",
       "      <td>100.000</td>\n",
       "      <td>24.615</td>\n",
       "    </tr>\n",
       "    <tr>\n",
       "      <th>meta_analyses</th>\n",
       "      <td>1</td>\n",
       "      <td>690</td>\n",
       "      <td>691</td>\n",
       "      <td>372</td>\n",
       "      <td>99.855</td>\n",
       "      <td>53.913</td>\n",
       "    </tr>\n",
       "    <tr>\n",
       "      <th>mini_mill</th>\n",
       "      <td>0</td>\n",
       "      <td>5</td>\n",
       "      <td>5</td>\n",
       "      <td>5</td>\n",
       "      <td>100.000</td>\n",
       "      <td>100.000</td>\n",
       "    </tr>\n",
       "    <tr>\n",
       "      <th>mitochondria</th>\n",
       "      <td>7</td>\n",
       "      <td>193</td>\n",
       "      <td>200</td>\n",
       "      <td>102</td>\n",
       "      <td>96.500</td>\n",
       "      <td>52.850</td>\n",
       "    </tr>\n",
       "    <tr>\n",
       "      <th>ncrna_combs</th>\n",
       "      <td>0</td>\n",
       "      <td>210</td>\n",
       "      <td>210</td>\n",
       "      <td>107</td>\n",
       "      <td>100.000</td>\n",
       "      <td>50.952</td>\n",
       "    </tr>\n",
       "    <tr>\n",
       "      <th>necessary_facilities</th>\n",
       "      <td>0</td>\n",
       "      <td>71</td>\n",
       "      <td>71</td>\n",
       "      <td>8</td>\n",
       "      <td>100.000</td>\n",
       "      <td>11.268</td>\n",
       "    </tr>\n",
       "    <tr>\n",
       "      <th>not_hindawi</th>\n",
       "      <td>0</td>\n",
       "      <td>23</td>\n",
       "      <td>23</td>\n",
       "      <td>2</td>\n",
       "      <td>100.000</td>\n",
       "      <td>8.696</td>\n",
       "    </tr>\n",
       "    <tr>\n",
       "      <th>paint_it_black</th>\n",
       "      <td>7</td>\n",
       "      <td>78</td>\n",
       "      <td>85</td>\n",
       "      <td>76</td>\n",
       "      <td>91.765</td>\n",
       "      <td>97.436</td>\n",
       "    </tr>\n",
       "    <tr>\n",
       "      <th>pps_tortured</th>\n",
       "      <td>2317</td>\n",
       "      <td>11907</td>\n",
       "      <td>14224</td>\n",
       "      <td>1017</td>\n",
       "      <td>83.711</td>\n",
       "      <td>8.541</td>\n",
       "    </tr>\n",
       "    <tr>\n",
       "      <th>pubpeer_image_sharing</th>\n",
       "      <td>9</td>\n",
       "      <td>2051</td>\n",
       "      <td>2060</td>\n",
       "      <td>1517</td>\n",
       "      <td>99.563</td>\n",
       "      <td>73.964</td>\n",
       "    </tr>\n",
       "    <tr>\n",
       "      <th>pubpeer_paper_mill</th>\n",
       "      <td>90</td>\n",
       "      <td>2657</td>\n",
       "      <td>2747</td>\n",
       "      <td>2133</td>\n",
       "      <td>96.724</td>\n",
       "      <td>80.279</td>\n",
       "    </tr>\n",
       "    <tr>\n",
       "      <th>rw_paper_mill</th>\n",
       "      <td>27</td>\n",
       "      <td>3545</td>\n",
       "      <td>3572</td>\n",
       "      <td>2341</td>\n",
       "      <td>99.244</td>\n",
       "      <td>66.037</td>\n",
       "    </tr>\n",
       "    <tr>\n",
       "      <th>sem_misid</th>\n",
       "      <td>0</td>\n",
       "      <td>2400</td>\n",
       "      <td>2400</td>\n",
       "      <td>0</td>\n",
       "      <td>100.000</td>\n",
       "      <td>0.000</td>\n",
       "    </tr>\n",
       "    <tr>\n",
       "      <th>shaanxi</th>\n",
       "      <td>0</td>\n",
       "      <td>26</td>\n",
       "      <td>26</td>\n",
       "      <td>17</td>\n",
       "      <td>100.000</td>\n",
       "      <td>65.385</td>\n",
       "    </tr>\n",
       "    <tr>\n",
       "      <th>shanghai</th>\n",
       "      <td>8</td>\n",
       "      <td>180</td>\n",
       "      <td>188</td>\n",
       "      <td>127</td>\n",
       "      <td>95.745</td>\n",
       "      <td>70.556</td>\n",
       "    </tr>\n",
       "    <tr>\n",
       "      <th>smol</th>\n",
       "      <td>0</td>\n",
       "      <td>14</td>\n",
       "      <td>14</td>\n",
       "      <td>11</td>\n",
       "      <td>100.000</td>\n",
       "      <td>78.571</td>\n",
       "    </tr>\n",
       "    <tr>\n",
       "      <th>spandidos_csu_1</th>\n",
       "      <td>0</td>\n",
       "      <td>131</td>\n",
       "      <td>131</td>\n",
       "      <td>117</td>\n",
       "      <td>100.000</td>\n",
       "      <td>89.313</td>\n",
       "    </tr>\n",
       "    <tr>\n",
       "      <th>spandidos_csu_2</th>\n",
       "      <td>1</td>\n",
       "      <td>25</td>\n",
       "      <td>26</td>\n",
       "      <td>25</td>\n",
       "      <td>96.154</td>\n",
       "      <td>100.000</td>\n",
       "    </tr>\n",
       "    <tr>\n",
       "      <th>sponges</th>\n",
       "      <td>0</td>\n",
       "      <td>74</td>\n",
       "      <td>74</td>\n",
       "      <td>48</td>\n",
       "      <td>100.000</td>\n",
       "      <td>64.865</td>\n",
       "    </tr>\n",
       "    <tr>\n",
       "      <th>stock_photo</th>\n",
       "      <td>11</td>\n",
       "      <td>113</td>\n",
       "      <td>124</td>\n",
       "      <td>113</td>\n",
       "      <td>91.129</td>\n",
       "      <td>100.000</td>\n",
       "    </tr>\n",
       "    <tr>\n",
       "      <th>tadpole</th>\n",
       "      <td>19</td>\n",
       "      <td>613</td>\n",
       "      <td>632</td>\n",
       "      <td>592</td>\n",
       "      <td>96.994</td>\n",
       "      <td>96.574</td>\n",
       "    </tr>\n",
       "    <tr>\n",
       "      <th>tanu_pro</th>\n",
       "      <td>115</td>\n",
       "      <td>793</td>\n",
       "      <td>908</td>\n",
       "      <td>42</td>\n",
       "      <td>87.335</td>\n",
       "      <td>5.296</td>\n",
       "    </tr>\n",
       "    <tr>\n",
       "      <th>transwell</th>\n",
       "      <td>0</td>\n",
       "      <td>14</td>\n",
       "      <td>14</td>\n",
       "      <td>3</td>\n",
       "      <td>100.000</td>\n",
       "      <td>21.429</td>\n",
       "    </tr>\n",
       "    <tr>\n",
       "      <th>traveling_tumor</th>\n",
       "      <td>7</td>\n",
       "      <td>62</td>\n",
       "      <td>69</td>\n",
       "      <td>44</td>\n",
       "      <td>89.855</td>\n",
       "      <td>70.968</td>\n",
       "    </tr>\n",
       "  </tbody>\n",
       "</table>\n",
       "</div>"
      ],
      "text/plain": [
       "                            not_in_openalex  in_openalex  total  in_openalex_and_in_multiple_sets  percent_in_openalex  percent_in_multiple_sets_in_openalex\n",
       "set                                                                                                                                                         \n",
       "all_patients                              2           68     70                                59               97.143                                86.765\n",
       "backup                                    0           57     57                                57              100.000                               100.000\n",
       "buon                                      0          131    131                                84              100.000                                64.122\n",
       "cangzhou_aging                            0           60     60                                35              100.000                                58.333\n",
       "cell_cycle                                0          106    106                                55              100.000                                51.887\n",
       "citations_ceramint                        0           44     44                                11              100.000                                25.000\n",
       "citations_crystallography               162          684    846                               327               80.851                                47.807\n",
       "citations_electrochemistry                0            9      9                                 0              100.000                                 0.000\n",
       "citations_misc                            1          460    461                                51               99.783                                11.087\n",
       "citations_monolayers                      0           11     11                                 0              100.000                                 0.000\n",
       "citations_petroleum                       0            9      9                                 0              100.000                                 0.000\n",
       "citations_tcm                             1           40     41                                 0               97.561                                 0.000\n",
       "citations_zhao_zhang                      0           14     14                                 0              100.000                                 0.000\n",
       "citations_zhende                         28           83    111                                57               74.775                                68.675\n",
       "colonies_retraction                       1           37     38                                33               97.368                                89.189\n",
       "continuation                              4          116    120                               101               96.667                                87.069\n",
       "contractor                                5         1227   1232                               656               99.594                                53.464\n",
       "contractor_2                             10           98    108                                 4               90.741                                 4.082\n",
       "crochet                                   0           29     29                                 5              100.000                                17.241\n",
       "direct_targeting                          1          285    286                               227               99.650                                79.649\n",
       "effect                                    2            9     11                                 8               81.818                                88.889\n",
       "ermps                                     5           86     91                                16               94.505                                18.605\n",
       "eyebrows                                  0          110    110                                53              100.000                                48.182\n",
       "fragments                                 0          215    215                               110              100.000                                51.163\n",
       "gmr                                       0           33     33                                25              100.000                                75.758\n",
       "golden_arches                             0            4      4                                 1              100.000                                25.000\n",
       "herbal                                    0           80     80                                74              100.000                                92.500\n",
       "hindawi                                  17         6649   6666                              1375               99.745                                20.680\n",
       "hudiandian                                0            6      6                                 0              100.000                                 0.000\n",
       "iranian_plant                             7           65     72                                60               90.278                                92.308\n",
       "jilin_university                          2          118    120                                99               98.333                                83.898\n",
       "maths                                     0           65     65                                16              100.000                                24.615\n",
       "meta_analyses                             1          690    691                               372               99.855                                53.913\n",
       "mini_mill                                 0            5      5                                 5              100.000                               100.000\n",
       "mitochondria                              7          193    200                               102               96.500                                52.850\n",
       "ncrna_combs                               0          210    210                               107              100.000                                50.952\n",
       "necessary_facilities                      0           71     71                                 8              100.000                                11.268\n",
       "not_hindawi                               0           23     23                                 2              100.000                                 8.696\n",
       "paint_it_black                            7           78     85                                76               91.765                                97.436\n",
       "pps_tortured                           2317        11907  14224                              1017               83.711                                 8.541\n",
       "pubpeer_image_sharing                     9         2051   2060                              1517               99.563                                73.964\n",
       "pubpeer_paper_mill                       90         2657   2747                              2133               96.724                                80.279\n",
       "rw_paper_mill                            27         3545   3572                              2341               99.244                                66.037\n",
       "sem_misid                                 0         2400   2400                                 0              100.000                                 0.000\n",
       "shaanxi                                   0           26     26                                17              100.000                                65.385\n",
       "shanghai                                  8          180    188                               127               95.745                                70.556\n",
       "smol                                      0           14     14                                11              100.000                                78.571\n",
       "spandidos_csu_1                           0          131    131                               117              100.000                                89.313\n",
       "spandidos_csu_2                           1           25     26                                25               96.154                               100.000\n",
       "sponges                                   0           74     74                                48              100.000                                64.865\n",
       "stock_photo                              11          113    124                               113               91.129                               100.000\n",
       "tadpole                                  19          613    632                               592               96.994                                96.574\n",
       "tanu_pro                                115          793    908                                42               87.335                                 5.296\n",
       "transwell                                 0           14     14                                 3              100.000                                21.429\n",
       "traveling_tumor                           7           62     69                                44               89.855                                70.968"
      ]
     },
     "execution_count": 23,
     "metadata": {},
     "output_type": "execute_result"
    }
   ],
   "source": [
    "prop_table"
   ]
  },
  {
   "cell_type": "code",
   "execution_count": null,
   "id": "8a295905",
   "metadata": {},
   "outputs": [],
   "source": []
  }
 ],
 "metadata": {
  "kernelspec": {
   "display_name": "Python 3 (ipykernel)",
   "language": "python",
   "name": "python3"
  },
  "language_info": {
   "codemirror_mode": {
    "name": "ipython",
    "version": 3
   },
   "file_extension": ".py",
   "mimetype": "text/x-python",
   "name": "python",
   "nbconvert_exporter": "python",
   "pygments_lexer": "ipython3",
   "version": "3.9.12"
  }
 },
 "nbformat": 4,
 "nbformat_minor": 5
}
