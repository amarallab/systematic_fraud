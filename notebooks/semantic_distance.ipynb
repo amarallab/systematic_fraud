{
 "cells": [
  {
   "cell_type": "code",
   "execution_count": 1,
   "id": "d7f3541e",
   "metadata": {},
   "outputs": [],
   "source": [
    "import numpy as np\n",
    "import pandas as pd\n",
    "import scipy\n",
    "\n",
    "from IPython.display import clear_output\n",
    "\n",
    "import sys\n",
    "sys.path.append('../../../../Documents/GitHub/gustav/src/')\n",
    "\n",
    "from gustav import ebi, ncbi, nlm, biogrid, nih, openalex\n",
    "from gustav import publications\n",
    "from gustav import github\n",
    "from gustav import access_framework\n",
    "from gustav import mapper\n",
    "\n",
    "import matplotlib as mpl\n",
    "import matplotlib.pyplot as plt\n",
    "import seaborn as sns\n",
    "\n",
    "sys.path.append('../general/src/')\n",
    "from manuscript import export\n",
    "from manuscript import inout\n",
    "from manuscript import datasets\n",
    "from manuscript import tools\n",
    "\n",
    "from sklearn.metrics import auc\n",
    "from scipy.stats import fisher_exact\n",
    "pd.options.display.precision = 3\n",
    "pd.options.display.expand_frame_repr = False\n",
    "pd.options.display.max_columns = 20\n",
    "\n",
    "import gc\n",
    "import re\n",
    "import json\n",
    "from tqdm.auto import tqdm\n",
    "from statsmodels.stats.multitest import multipletests"
   ]
  },
  {
   "cell_type": "code",
   "execution_count": 37,
   "id": "a12f4bf4",
   "metadata": {},
   "outputs": [],
   "source": [
    "from bs4 import BeautifulSoup\n",
    "import lxml\n",
    "import os\n",
    "import gc"
   ]
  },
  {
   "cell_type": "markdown",
   "id": "1f49eba3",
   "metadata": {},
   "source": [
    "# Are retraction notices for retractions that occur on the same day more semantically similar?"
   ]
  },
  {
   "cell_type": "markdown",
   "id": "34e2650f",
   "metadata": {},
   "source": [
    "PLOS ONE"
   ]
  },
  {
   "cell_type": "code",
   "execution_count": 2,
   "id": "2c8cba7c",
   "metadata": {},
   "outputs": [
    {
     "name": "stdout",
     "output_type": "stream",
     "text": [
      "No aff_df at 344000\n",
      "No aff_df at 345710\n"
     ]
    }
   ],
   "source": [
    "aff_df = []\n",
    "type_df = []\n",
    "date_df = []\n",
    "contrib_df = []\n",
    "subj_df = []\n",
    "\n",
    "for n in list(range(1_000, 346_000, 1_000)) + [345_710]:\n",
    "    contrib_df.append(pd.read_csv('../data/231109_plos_contributors_' + str(n) + '.csv'))\n",
    "    type_df.append(pd.read_csv('../data/231109_plos_content_type_' + str(n) + '.csv'))\n",
    "    date_df.append(pd.read_csv('../data/231109_plos_handling_time_' + str(n) + '.csv'))\n",
    "    try:\n",
    "        aff_df.append(pd.read_csv('../data/231109_plos_aff_' + str(n) + '.csv'))\n",
    "    except:\n",
    "        print('No aff_df at ' + str(n))\n",
    "    subj_df.append(pd.read_csv('../data/231109_plos_subj_' + str(n) + '.csv'))\n",
    "\n",
    "subj_df = pd.concat(subj_df).reset_index(drop=True)\n",
    "contrib_df = pd.concat(contrib_df).reset_index(drop=True)\n",
    "type_df = pd.concat(type_df).reset_index(drop=True)\n",
    "date_df = pd.concat(date_df).reset_index(drop=True)\n",
    "aff_df = pd.concat(aff_df).reset_index(drop=True)"
   ]
  },
  {
   "cell_type": "code",
   "execution_count": 12,
   "id": "9825e293",
   "metadata": {},
   "outputs": [],
   "source": [
    "retraction_dois = type_df[(type_df['content_type'] == 'Retraction') & (type_df['doi'].str.contains('pone'))]['doi']"
   ]
  },
  {
   "cell_type": "code",
   "execution_count": 15,
   "id": "cd46351f",
   "metadata": {},
   "outputs": [],
   "source": [
    "date_df = date_df[date_df['doi'].isin(retraction_dois)]"
   ]
  },
  {
   "cell_type": "code",
   "execution_count": 21,
   "id": "0091c1da",
   "metadata": {},
   "outputs": [
    {
     "name": "stderr",
     "output_type": "stream",
     "text": [
      "C:\\Users\\richa\\AppData\\Local\\Temp\\ipykernel_28112\\721564951.py:1: SettingWithCopyWarning: \n",
      "A value is trying to be set on a copy of a slice from a DataFrame.\n",
      "Try using .loc[row_indexer,col_indexer] = value instead\n",
      "\n",
      "See the caveats in the documentation: https://pandas.pydata.org/pandas-docs/stable/user_guide/indexing.html#returning-a-view-versus-a-copy\n",
      "  date_df['pub_date'] = pd.to_datetime(date_df['day'].astype(str) + '-' + date_df['month'].astype(str) + '-' + date_df['year'].astype(str),\n"
     ]
    }
   ],
   "source": [
    "date_df['pub_date'] = pd.to_datetime(date_df['day'].astype(str) + '-' + date_df['month'].astype(str) + '-' + date_df['year'].astype(str), \n",
    "               dayfirst=True)"
   ]
  },
  {
   "cell_type": "code",
   "execution_count": 26,
   "id": "6f81fd35",
   "metadata": {},
   "outputs": [],
   "source": [
    "import os\n",
    "all_of_plos = os.listdir(r\"C:/Users/richa/Documents/GitHub/paper_mill_screen/data/allofplos\")"
   ]
  },
  {
   "cell_type": "code",
   "execution_count": 52,
   "id": "f84d0501",
   "metadata": {},
   "outputs": [
    {
     "name": "stderr",
     "output_type": "stream",
     "text": [
      "C:\\Users\\richa\\anaconda3\\envs\\gene_env\\lib\\site-packages\\bs4\\builder\\__init__.py:545: XMLParsedAsHTMLWarning: It looks like you're parsing an XML document using an HTML parser. If this really is an HTML document (maybe it's XHTML?), you can ignore or filter this warning. If it's XML, you should know that using an XML parser will be more reliable. To parse this document as XML, make sure you have the lxml package installed, and pass the keyword argument `features=\"xml\"` into the BeautifulSoup constructor.\n",
      "  warnings.warn(\n"
     ]
    }
   ],
   "source": [
    "text_array = []\n",
    "for doi in retraction_dois:\n",
    "    filename = doi.split('/')[-1] + '.xml'\n",
    "    filepath = '../data/allofplos/' + filename\n",
    "    \n",
    "    with open(filepath, encoding='utf8') as f:\n",
    "        text = f.read()\n",
    "        \n",
    "    file = BeautifulSoup(text, 'lxml')\n",
    "    \n",
    "    file_text = ' '.join([p.text for p in file.find_all('p')])\n",
    "    \n",
    "    text_array.append(file_text)\n",
    "    \n",
    "    file.decompose()\n",
    "    \n",
    "text_df = pd.DataFrame({'doi':retraction_dois, 'text':text_array})\n",
    "text_df = pd.merge(text_df, date_df[['doi', 'pub_date']])"
   ]
  },
  {
   "cell_type": "code",
   "execution_count": 54,
   "id": "9c4863ba",
   "metadata": {},
   "outputs": [],
   "source": [
    "text_df.to_csv('../data/240408_plos_one_retraction_notices.csv', index=False)"
   ]
  },
  {
   "cell_type": "code",
   "execution_count": 141,
   "id": "a63102a5",
   "metadata": {},
   "outputs": [],
   "source": [
    "from nltk.tokenize import RegexpTokenizer"
   ]
  },
  {
   "cell_type": "code",
   "execution_count": 247,
   "id": "5b24dfda",
   "metadata": {},
   "outputs": [],
   "source": [
    "def js_divergence(text1, text2, base=2):\n",
    "    tokens1 = tokenizer.tokenize(text1.lower())\n",
    "    tokens2 = tokenizer.tokenize(text2.lower())\n",
    "    \n",
    "    res_df_1 = pd.DataFrame({'text1':pd.DataFrame(tokens1)[0].value_counts()})\\\n",
    "    .reset_index().rename(columns={'index':'token'})\n",
    "    res_df_2 = pd.DataFrame({'text2':pd.DataFrame(tokens2)[0].value_counts()})\\\n",
    "    .reset_index().rename(columns={'index':'token'})\n",
    "    res_df = pd.merge(res_df_1, res_df_2, on='token', how='outer').fillna(0.0)\n",
    "    \n",
    "    p = res_df['text1']/res_df['text1'].sum()\n",
    "    q = res_df['text2']/res_df['text2'].sum()\n",
    "    \n",
    "    return scipy.spatial.distance.jensenshannon(p, q, base=base, axis=0)"
   ]
  },
  {
   "cell_type": "code",
   "execution_count": 248,
   "id": "ce70173b",
   "metadata": {},
   "outputs": [
    {
     "data": {
      "text/plain": [
       "0.7503523169709262"
      ]
     },
     "execution_count": 248,
     "metadata": {},
     "output_type": "execute_result"
    }
   ],
   "source": [
    "js_divergence(text_df.sample(1)['text'].values[0], text_df.sample(1)['text'].values[0])"
   ]
  },
  {
   "cell_type": "code",
   "execution_count": 249,
   "id": "045b4b81",
   "metadata": {},
   "outputs": [],
   "source": [
    "np.random.seed(50)"
   ]
  },
  {
   "cell_type": "code",
   "execution_count": 250,
   "id": "2b687ffd",
   "metadata": {},
   "outputs": [
    {
     "name": "stdout",
     "output_type": "stream",
     "text": [
      "CPU times: total: 3min 8s\n",
      "Wall time: 3min 9s\n"
     ]
    }
   ],
   "source": [
    "%%time\n",
    "n_samples = 50_000\n",
    "\n",
    "dist_array = []\n",
    "div_array = []\n",
    "indices_array = []\n",
    "\n",
    "while len(indices_array) < n_samples:\n",
    "    text_df_slice = text_df.sample(2, replace=False)\n",
    "    indices = set(text_df_slice.index.values)\n",
    "    if indices not in indices_array:\n",
    "        dist = np.abs(int(((text_df_slice['pub_date'].values[0] - text_df_slice['pub_date'].values[1])/86400000000000)))\n",
    "        js_div = js_divergence(text_df_slice['text'].values[0], text_df_slice['text'].values[1], base=2)\n",
    "        dist_array.append(dist)\n",
    "        div_array.append(js_div)\n",
    "        indices_array.append(indices)"
   ]
  },
  {
   "cell_type": "code",
   "execution_count": 251,
   "id": "4cf0498f",
   "metadata": {},
   "outputs": [],
   "source": [
    "result_df = pd.DataFrame({'dist':dist_array, 'js_div':div_array})"
   ]
  },
  {
   "cell_type": "code",
   "execution_count": 252,
   "id": "93322ed4",
   "metadata": {},
   "outputs": [],
   "source": [
    "def dist_classifier(dist):\n",
    "    if dist == 0:\n",
    "        return 'Same day'\n",
    "    elif dist <= 7:\n",
    "        return 'Within week'\n",
    "    elif dist <= 30:\n",
    "        return 'Within month'\n",
    "    elif dist <= 365:\n",
    "        return 'Within year'\n",
    "    else:\n",
    "        return 'More than a\\nyear apart'"
   ]
  },
  {
   "cell_type": "code",
   "execution_count": 253,
   "id": "893178bd",
   "metadata": {},
   "outputs": [],
   "source": [
    "result_df['class'] = result_df['dist'].apply(dist_classifier)"
   ]
  },
  {
   "cell_type": "code",
   "execution_count": 259,
   "id": "9a49f773",
   "metadata": {},
   "outputs": [
    {
     "data": {
      "text/plain": [
       "More than a\\nyear apart    33526\n",
       "Within year                14113\n",
       "Within month                1658\n",
       "Same day                     427\n",
       "Within week                  276\n",
       "Name: class, dtype: int64"
      ]
     },
     "execution_count": 259,
     "metadata": {},
     "output_type": "execute_result"
    }
   ],
   "source": [
    "result_df['class'].value_counts()"
   ]
  },
  {
   "cell_type": "code",
   "execution_count": 257,
   "id": "dc192770",
   "metadata": {},
   "outputs": [],
   "source": [
    "min_samples = result_df['class'].value_counts().min()"
   ]
  },
  {
   "cell_type": "code",
   "execution_count": 258,
   "id": "dc9a6487",
   "metadata": {},
   "outputs": [],
   "source": [
    "collect = []\n",
    "for class_label in np.unique(result_df['class']):\n",
    "    collect.append(result_df[result_df['class'] == class_label].sample(min_samples, replace=False))\n",
    "    \n",
    "result_df_slice = pd.concat(collect)"
   ]
  },
  {
   "cell_type": "code",
   "execution_count": 260,
   "id": "b0dfc197",
   "metadata": {},
   "outputs": [
    {
     "data": {
      "text/plain": [
       "More than a\\nyear apart    276\n",
       "Same day                   276\n",
       "Within month               276\n",
       "Within week                276\n",
       "Within year                276\n",
       "Name: class, dtype: int64"
      ]
     },
     "execution_count": 260,
     "metadata": {},
     "output_type": "execute_result"
    }
   ],
   "source": [
    "result_df_slice['class'].value_counts()"
   ]
  },
  {
   "cell_type": "code",
   "execution_count": 261,
   "id": "a8431efa",
   "metadata": {},
   "outputs": [
    {
     "data": {
      "image/png": "[encoded data removed]",
      "text/plain": [
       "<Figure size 576x360 with 1 Axes>"
      ]
     },
     "metadata": {
      "needs_background": "light"
     },
     "output_type": "display_data"
    }
   ],
   "source": [
    "fig = plt.figure(figsize=(8,5))\n",
    "ax = plt.gca()\n",
    "\n",
    "sns.boxplot(data=result_df_slice, x='class', y='js_div', \n",
    "            order=['Same day', 'Within week', 'Within month', 'Within year', 'More than a\\nyear apart'], \n",
    "            ax=ax, whis=[2.5,97.5], zorder=30)\n",
    "ax.set_ylabel('Jensen-Shannon divergence', fontsize=16)\n",
    "ax.set_xlabel('Time between retraction notices', fontsize=16)\n",
    "\n",
    "ax.tick_params(width=1, length=5, which='major')\n",
    "ax.tick_params(width=1, length=2, which='minor')\n",
    "ax.tick_params(labelsize=12)\n",
    "ax.spines['top'].set_visible(False)\n",
    "ax.spines['right'].set_visible(False)\n",
    "[ax.spines[i].set_linewidth(2) for i in ax.spines]\n",
    "ax.set_ylim([-0.025,1.025])\n",
    "\n",
    "fig.savefig('../img/240405_plos_one_retraction_notice_similarity.png', dpi=200, bbox_inches='tight')"
   ]
  },
  {
   "cell_type": "code",
   "execution_count": 232,
   "id": "b0fe7bf0",
   "metadata": {},
   "outputs": [],
   "source": [
    "def ast_str(p):\n",
    "    ast_str = ''\n",
    "    if p < 0.05:\n",
    "        ast_str += '*'\n",
    "    if p < 0.01:\n",
    "        ast_str += '*'\n",
    "    if p < 0.001:\n",
    "        ast_str += '*'\n",
    "        \n",
    "    if ast_str == '':\n",
    "        ast_str = 'n.s.'\n",
    "    return ast_str"
   ]
  },
  {
   "cell_type": "code",
   "execution_count": 262,
   "id": "4446976b",
   "metadata": {},
   "outputs": [
    {
     "data": {
      "image/png": "[encoded data removed]",
      "text/plain": [
       "<Figure size 576x720 with 1 Axes>"
      ]
     },
     "metadata": {
      "needs_background": "light"
     },
     "output_type": "display_data"
    }
   ],
   "source": [
    "fig = plt.figure(figsize=(8,10))\n",
    "ax = plt.gca()\n",
    "labels = ['Same day', 'Within week', 'Within month', 'Within year', 'More than a\\nyear apart']\n",
    "\n",
    "sns.boxplot(data=result_df_slice, x='class', y='js_div', \n",
    "            order=labels, \n",
    "            ax=ax, whis=[2.5,97.5], zorder=30)\n",
    "ax.set_ylabel('Jensen-Shannon divergence', fontsize=16)\n",
    "ax.set_xlabel('Time between retraction notices', fontsize=16)\n",
    "\n",
    "ax.tick_params(width=1, length=5, which='major')\n",
    "ax.tick_params(width=1, length=2, which='minor')\n",
    "ax.tick_params(labelsize=12)\n",
    "ax.spines['top'].set_visible(False)\n",
    "ax.spines['right'].set_visible(False)\n",
    "[ax.spines[i].set_linewidth(2) for i in ax.spines]\n",
    "#ax.set_ylim([-0.025,1.025])\n",
    "ax.axhline(0, color='k', alpha=0.25, zorder=-10, linestyle='dashed')\n",
    "ax.axhline(1, color='k', alpha=0.25, zorder=-10, linestyle='dashed')\n",
    "\n",
    "mult = 0.1\n",
    "overcount = 0\n",
    "a_count = 0\n",
    "for label_1 in labels:\n",
    "    b_count = 0\n",
    "    for label_2 in labels:\n",
    "        if a_count < b_count:\n",
    "            stat, p = scipy.stats.mannwhitneyu(result_df_slice[result_df_slice['class'] == label_1]['js_div'].values,\n",
    "                                               result_df_slice[result_df_slice['class'] == label_2]['js_div'].values,\n",
    "                                               alternative='two-sided')\n",
    "            ax.text(x=(a_count + b_count)/2, \n",
    "                        y=1.1+overcount*mult, \n",
    "                        s=ast_str(p), \n",
    "                        fontsize=14, va='bottom', ha='center', rotation=0, weight='bold')\n",
    "                \n",
    "            ax.plot([a_count,a_count, b_count, b_count], \n",
    "                        [1.075+overcount*mult, 1.1+overcount*mult, 1.1+overcount*mult, 1.075+overcount*mult], \n",
    "                        lw=1.5, c='k')\n",
    "            overcount += 1\n",
    "        b_count += 1\n",
    "    a_count += 1\n",
    "\n",
    "fig.savefig('../img/240405_plos_one_retraction_notice_similarity.png', dpi=200, bbox_inches='tight')"
   ]
  },
  {
   "cell_type": "markdown",
   "id": "4293d57a",
   "metadata": {},
   "source": [
    "Could do for Hindawi, but many of the retraction notices at Hindawi are exactly identical:\n",
    "\n",
    "https://www.hindawi.com/journals/jeph/2023/9893246/"
   ]
  },
  {
   "cell_type": "code",
   "execution_count": null,
   "id": "5cec01b4",
   "metadata": {},
   "outputs": [],
   "source": []
  }
 ],
 "metadata": {
  "kernelspec": {
   "display_name": "Python 3 (ipykernel)",
   "language": "python",
   "name": "python3"
  },
  "language_info": {
   "codemirror_mode": {
    "name": "ipython",
    "version": 3
   },
   "file_extension": ".py",
   "mimetype": "text/x-python",
   "name": "python",
   "nbconvert_exporter": "python",
   "pygments_lexer": "ipython3",
   "version": "3.9.12"
  }
 },
 "nbformat": 4,
 "nbformat_minor": 5
}
