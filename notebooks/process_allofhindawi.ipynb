{
 "cells": [
  {
   "cell_type": "code",
   "execution_count": 1,
   "id": "9eee7637",
   "metadata": {},
   "outputs": [],
   "source": [
    "import numpy as np\n",
    "import pandas as pd\n",
    "import scipy\n",
    "\n",
    "from IPython.display import clear_output\n",
    "\n",
    "import sys\n",
    "sys.path.append('../../../../Documents/GitHub/gustav/src/')\n",
    "\n",
    "from gustav import ebi, ncbi, nlm, biogrid, nih, openalex\n",
    "from gustav import publications\n",
    "from gustav import github\n",
    "from gustav import access_framework\n",
    "from gustav import mapper\n",
    "\n",
    "import matplotlib as mpl\n",
    "import matplotlib.pyplot as plt\n",
    "import seaborn as sns\n",
    "\n",
    "sys.path.append('../general/src/')\n",
    "from manuscript import export\n",
    "from manuscript import inout\n",
    "from manuscript import datasets\n",
    "from manuscript import tools\n",
    "\n",
    "from sklearn.metrics import auc\n",
    "from scipy.stats import fisher_exact\n",
    "pd.options.display.precision = 3\n",
    "pd.options.display.expand_frame_repr = False\n",
    "pd.options.display.max_columns = 20\n",
    "\n",
    "import gc\n",
    "import re\n",
    "import json"
   ]
  },
  {
   "cell_type": "code",
   "execution_count": 2,
   "id": "3c620d2f",
   "metadata": {},
   "outputs": [],
   "source": [
    "import requests\n",
    "import random\n",
    "from bs4 import BeautifulSoup\n",
    "import json\n",
    "import re\n",
    "import time"
   ]
  },
  {
   "cell_type": "code",
   "execution_count": 61,
   "id": "acf2eca1",
   "metadata": {},
   "outputs": [],
   "source": [
    "from bs4 import BeautifulSoup\n",
    "import lxml\n",
    "import os\n",
    "import gc\n",
    "from datetime import datetime"
   ]
  },
  {
   "cell_type": "markdown",
   "id": "a2e8a226",
   "metadata": {},
   "source": [
    "# All of Hindawi download on April 4, 2024"
   ]
  },
  {
   "cell_type": "code",
   "execution_count": 4,
   "id": "7d3d899f",
   "metadata": {},
   "outputs": [],
   "source": [
    "with open('../data/allofhindawi/2024/HINDAWI.ACISC/6671359-2024-01-31.xml', encoding='utf8') as f:\n",
    "    text = f.read()"
   ]
  },
  {
   "cell_type": "code",
   "execution_count": 21,
   "id": "36948f8a",
   "metadata": {},
   "outputs": [],
   "source": [
    "import os\n",
    "all_of_hindawi = os.listdir(r\"C:/Users/richa/Documents/GitHub/paper_mill_screen/data/allofhindawi/2008\")"
   ]
  },
  {
   "cell_type": "code",
   "execution_count": 57,
   "id": "123112bf",
   "metadata": {},
   "outputs": [],
   "source": [
    "allofhindawi = []\n",
    "for year in range(2008, 2025):\n",
    "    year = str(year)\n",
    "    journals = os.listdir(r\"C:/Users/richa/Documents/GitHub/paper_mill_screen/data/allofhindawi/\" + year)\n",
    "    for journal in journals:\n",
    "        items = os.listdir(r\"C:/Users/richa/Documents/GitHub/paper_mill_screen/data/allofhindawi/\" + year +'/'+ journal  + '/')\n",
    "        for item in items:\n",
    "            full_filename = year +'/'+ journal  + '/' + item\n",
    "            allofhindawi.append(full_filename)"
   ]
  },
  {
   "cell_type": "code",
   "execution_count": 68,
   "id": "6df34239",
   "metadata": {},
   "outputs": [
    {
     "name": "stdout",
     "output_type": "stream",
     "text": [
      "334000\n",
      "CPU times: total: 4h 39min 4s\n",
      "Wall time: 5h 2min 44s\n"
     ]
    }
   ],
   "source": [
    "%%time\n",
    "content_type_array = []\n",
    "contrib_df_array = []\n",
    "handling_time_array = []\n",
    "aff_array = []\n",
    "subj_array = []\n",
    "filename_array = []\n",
    "\n",
    "count = 0\n",
    "for filename in allofhindawi[count:]:\n",
    "    \n",
    "    filepath = '../data/allofhindawi/' + filename\n",
    "    \n",
    "    with open(filepath, encoding='utf8') as f:\n",
    "        text = f.read()\n",
    "        \n",
    "    file = BeautifulSoup(text, 'lxml')\n",
    "    \n",
    "    # doi\n",
    "    try:\n",
    "        doi = file.find('article-id', attrs={'pub-id-type':'doi'}).text\n",
    "    except:\n",
    "        doi = ''\n",
    "    \n",
    "    try:\n",
    "        filename_array.append(pd.DataFrame({'doi':[doi], 'filename':[filename]}))\n",
    "    except:\n",
    "        pass\n",
    "    \n",
    "    # content type\n",
    "    try:\n",
    "        content_type = file.find('subject').text\n",
    "        content_type_array.append(pd.DataFrame({'doi':[doi], 'content_type':[content_type]}))\n",
    "    except:\n",
    "        pass\n",
    "    \n",
    "    # contrib\n",
    "    for contrib in file.find_all('contrib'):\n",
    "        try:\n",
    "            contrib_type = contrib['contrib-type']\n",
    "            if contrib.find('name'):\n",
    "                if contrib.find('name').find('surname'):\n",
    "                    surname = contrib.find('name').find('surname').text\n",
    "                else:\n",
    "                    surname = ''\n",
    "                if contrib.find('name').find('given-names'):\n",
    "                    given_name = contrib.find('name').find('given-names').text\n",
    "                else:\n",
    "                    given_name = ''\n",
    "            if contrib.find('contrib-id', {'contrib-id-type':'orcid'}):\n",
    "                orcid = contrib.find('contrib-id', {'contrib-id-type':'orcid'}).text\n",
    "            else:\n",
    "                orcid = ''\n",
    "                \n",
    "            contrib_df_array.append(pd.DataFrame({'doi':[doi], 'contrib':[given_name + ' ' + surname], \n",
    "                                                  'contrib_type':[contrib_type], 'orcid':[orcid]}))\n",
    "            for aff_id in contrib.find_all('xref', {'ref-type':'aff'}):\n",
    "                rid = aff_id['rid']\n",
    "                contrib_df_array.append(pd.DataFrame({'doi':[doi], 'contrib':[given_name + ' ' + surname], \n",
    "                                                      'contrib_type':[contrib_type], 'orcid':[orcid], 'aff_id':[rid]}))\n",
    "        except:  \n",
    "            pass\n",
    "    \n",
    "    # affiliations\n",
    "    for aff in file.find_all('aff'):\n",
    "        try:\n",
    "            aff_id = aff['id']\n",
    "            #address = aff.find('addr-line').text\n",
    "            address_lines = aff.find_all('addr-line', text=True)\n",
    "            address = ''\n",
    "            for address_line in address_lines:\n",
    "                address = address + address_line.text + ', '\n",
    "            if aff.find('country'):\n",
    "                address = address + aff.find('country').text\n",
    "            aff_array.append(pd.DataFrame({'doi':[doi], 'aff_id':[aff_id], 'address':[address]}))\n",
    "        except:\n",
    "            pass\n",
    "    \n",
    "    # handling dates   \n",
    "    for date in file.find_all('date'):\n",
    "        try:\n",
    "            date_type = date['date-type']\n",
    "            day = date.find('day').text\n",
    "            month = date.find('month').text\n",
    "            year = date.find('year').text\n",
    "            handling_time_array.append(pd.DataFrame({'doi':[doi], 'date_type':[date_type], 'day':[day], 'month':[month], 'year':[year]}))\n",
    "        except:\n",
    "            pass\n",
    "        \n",
    "    for date in file.find_all('pub-date', {'pub-type':'epub'}):\n",
    "        try:\n",
    "            date_type = 'Published'\n",
    "            day = date.find('day').text\n",
    "            month = date.find('month').text\n",
    "            year = date.find('year').text\n",
    "            handling_time_array.append(pd.DataFrame({'doi':[doi], 'date_type':[date_type], 'day':[day], 'month':[month], 'year':[year]}))\n",
    "        except:\n",
    "            pass\n",
    "    \n",
    "    # subjects\n",
    "    for subj in file.find_all('subject'):\n",
    "        try:\n",
    "            subject = subj.text\n",
    "            subj_array.append(pd.DataFrame({'doi':[doi], 'subject':[subject]}))\n",
    "        except:\n",
    "            pass\n",
    "        \n",
    "    file.decompose()\n",
    "    del file\n",
    "    count += 1\n",
    "    if count % 1000 == 0:\n",
    "        clear_output()\n",
    "        print(count)\n",
    "        gc.collect()\n",
    "        with open('../data/230404_hindawi_datetime.txt', 'a+') as f:\n",
    "            now = datetime.now()\n",
    "            f.write(now.strftime(\"%H:%M:%S\") + '\\n')\n",
    "            \n",
    "        if len(handling_time_array) > 0:\n",
    "            handling_time_df = pd.concat(handling_time_array)\n",
    "            handling_time_df.to_csv('../data/240404_hindawi_handling_time_' + str(count) + '.csv', index=False)\n",
    "        if len(contrib_df_array) > 0:\n",
    "            contrib_df = pd.concat(contrib_df_array)\n",
    "            contrib_df.to_csv('../data/240404_hindawi_contributors_' + str(count) + '.csv', index=False)\n",
    "        if len(content_type_array) > 0:\n",
    "            content_type_df = pd.concat(content_type_array)\n",
    "            content_type_df.to_csv('../data/240404_hindawi_content_type_' + str(count) + '.csv', index=False)\n",
    "        if len(aff_array) > 0:\n",
    "            aff_df = pd.concat(aff_array)\n",
    "            aff_df.to_csv('../data/240404_hindawi_aff_' + str(count) + '.csv', index=False)\n",
    "        if len(subj_array) > 0:\n",
    "            subj_df = pd.concat(subj_array)\n",
    "            subj_df.to_csv('../data/240404_hindawi_subj_' + str(count) + '.csv', index=False)\n",
    "        if len(filename_array) > 0:\n",
    "            filename_df = pd.concat(filename_array)\n",
    "            filename_df.to_csv('../data/240404_hindawi_filenames_' + str(count) + '.csv', index=False)\n",
    "            \n",
    "        content_type_array = []\n",
    "        contrib_df_array = []\n",
    "        handling_time_array = []\n",
    "        aff_array = []\n",
    "        subj_array = []\n",
    "        filename_array = []  \n",
    "            \n",
    "if len(handling_time_array) > 0:\n",
    "    handling_time_df = pd.concat(handling_time_array)\n",
    "    handling_time_df.to_csv('../data/240404_hindawi_handling_time_' + str(count) + '.csv', index=False)\n",
    "if len(contrib_df_array) > 0:\n",
    "    contrib_df = pd.concat(contrib_df_array)\n",
    "    contrib_df.to_csv('../data/240404_hindawi_contributors_' + str(count) + '.csv', index=False)\n",
    "if len(content_type_array) > 0:\n",
    "    content_type_df = pd.concat(content_type_array)\n",
    "    content_type_df.to_csv('../data/240404_hindawi_content_type_' + str(count) + '.csv', index=False)\n",
    "if len(aff_array) > 0:\n",
    "        aff_df = pd.concat(aff_array)\n",
    "        aff_df.to_csv('../data/240404_hindawi_aff_' + str(count) + '.csv', index=False)\n",
    "if len(subj_array) > 0:\n",
    "    subj_df = pd.concat(subj_array)\n",
    "    subj_df.to_csv('../data/240404_hindawi_subj_' + str(count) + '.csv', index=False)\n",
    "if len(filename_array) > 0:\n",
    "    filename_df = pd.concat(filename_array)\n",
    "    filename_df.to_csv('../data/240404_hindawi_filenames_' + str(count) + '.csv', index=False)\n",
    "            \n",
    "content_type_array = []\n",
    "contrib_df_array = []\n",
    "handling_time_array = []\n",
    "aff_array = []\n",
    "subj_array = []\n",
    "filename_array = []"
   ]
  },
  {
   "cell_type": "code",
   "execution_count": 63,
   "id": "1ccc2950",
   "metadata": {},
   "outputs": [
    {
     "data": {
      "text/plain": [
       "<article-id pub-id-type=\"doi\">10.1155/2012/102423</article-id>"
      ]
     },
     "execution_count": 63,
     "metadata": {},
     "output_type": "execute_result"
    }
   ],
   "source": [
    "file.find('article-id', attrs={'pub-id-type':'doi'})"
   ]
  },
  {
   "cell_type": "code",
   "execution_count": 76,
   "id": "a1cf9910",
   "metadata": {},
   "outputs": [
    {
     "data": {
      "text/plain": [
       "334000"
      ]
     },
     "execution_count": 76,
     "metadata": {},
     "output_type": "execute_result"
    }
   ],
   "source": [
    "len(allofhindawi)"
   ]
  },
  {
   "cell_type": "code",
   "execution_count": 77,
   "id": "a0bdf891",
   "metadata": {},
   "outputs": [
    {
     "data": {
      "text/plain": [
       "334000"
      ]
     },
     "execution_count": 77,
     "metadata": {},
     "output_type": "execute_result"
    }
   ],
   "source": [
    "count"
   ]
  },
  {
   "cell_type": "code",
   "execution_count": null,
   "id": "d087426b",
   "metadata": {},
   "outputs": [],
   "source": []
  }
 ],
 "metadata": {
  "kernelspec": {
   "display_name": "Python 3 (ipykernel)",
   "language": "python",
   "name": "python3"
  },
  "language_info": {
   "codemirror_mode": {
    "name": "ipython",
    "version": 3
   },
   "file_extension": ".py",
   "mimetype": "text/x-python",
   "name": "python",
   "nbconvert_exporter": "python",
   "pygments_lexer": "ipython3",
   "version": "3.9.12"
  }
 },
 "nbformat": 4,
 "nbformat_minor": 5
}
